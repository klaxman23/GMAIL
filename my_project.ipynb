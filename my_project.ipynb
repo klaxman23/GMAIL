{
  "cells": [
    {
      "cell_type": "markdown",
      "metadata": {
        "id": "view-in-github",
        "colab_type": "text"
      },
      "source": [
        "<a href=\"https://colab.research.google.com/github/klaxman23/GMAIL/blob/main/my_project.ipynb\" target=\"_parent\"><img src=\"https://colab.research.google.com/assets/colab-badge.svg\" alt=\"Open In Colab\"/></a>"
      ]
    },
    {
      "cell_type": "code",
      "execution_count": null,
      "metadata": {
        "id": "lIYdn1woOS1n",
        "colab": {
          "base_uri": "https://localhost:8080/"
        },
        "outputId": "eaeecf6a-0cd7-4055-d692-52d7f1e328c2"
      },
      "outputs": [
        {
          "output_type": "stream",
          "name": "stdout",
          "text": [
            "Enter a value:10\n",
            "55\n"
          ]
        }
      ],
      "source": [
        "''' write a program to print sum of n numbers'''\n",
        "num = int(input(\"Enter a value:\"))\n",
        "\n",
        "sum=0\n",
        "\n",
        "for i in range(1,num+1):\n",
        "  sum=sum+i\n",
        "print(sum)"
      ]
    },
    {
      "cell_type": "code",
      "source": [
        "''' write a program to print odd and even numbers'''\n",
        "num=[]\n",
        "for i in range(1,101):\n",
        "  if i%2==0:\n",
        "    num.append(i)\n",
        "print(num)"
      ],
      "metadata": {
        "colab": {
          "base_uri": "https://localhost:8080/"
        },
        "id": "i4diPXTSz3JA",
        "outputId": "585bb398-442d-4608-86e5-bc18e6f85976"
      },
      "execution_count": null,
      "outputs": [
        {
          "output_type": "stream",
          "name": "stdout",
          "text": [
            "[2, 4, 6, 8, 10, 12, 14, 16, 18, 20, 22, 24, 26, 28, 30, 32, 34, 36, 38, 40, 42, 44, 46, 48, 50, 52, 54, 56, 58, 60, 62, 64, 66, 68, 70, 72, 74, 76, 78, 80, 82, 84, 86, 88, 90, 92, 94, 96, 98, 100]\n"
          ]
        }
      ]
    },
    {
      "cell_type": "code",
      "source": [
        "''' write a program to print odd and even numbers'''\n",
        "num=[]\n",
        "for i in range(1,101):\n",
        "  if i%2==1:\n",
        "    num.append(i)\n",
        "print(num)"
      ],
      "metadata": {
        "colab": {
          "base_uri": "https://localhost:8080/"
        },
        "id": "X-4tkY2u1rMH",
        "outputId": "d00e8353-18d9-4bac-fd75-16be4930918a"
      },
      "execution_count": null,
      "outputs": [
        {
          "output_type": "stream",
          "name": "stdout",
          "text": [
            "[1, 3, 5, 7, 9, 11, 13, 15, 17, 19, 21, 23, 25, 27, 29, 31, 33, 35, 37, 39, 41, 43, 45, 47, 49, 51, 53, 55, 57, 59, 61, 63, 65, 67, 69, 71, 73, 75, 77, 79, 81, 83, 85, 87, 89, 91, 93, 95, 97, 99]\n"
          ]
        }
      ]
    },
    {
      "cell_type": "code",
      "source": [
        "''' write a program to print odd and even numbers'''\n",
        "num = [ i for i in range(1,101) if i%2==1]\n",
        "print(num)\n",
        "num = [ i for i in range(1,101) if i%2==0]\n",
        "print(num)"
      ],
      "metadata": {
        "colab": {
          "base_uri": "https://localhost:8080/"
        },
        "id": "sZFAsjHN1yw5",
        "outputId": "8e8549ae-9d17-4f2b-af17-96865b477d21"
      },
      "execution_count": null,
      "outputs": [
        {
          "output_type": "stream",
          "name": "stdout",
          "text": [
            "[1, 3, 5, 7, 9, 11, 13, 15, 17, 19, 21, 23, 25, 27, 29, 31, 33, 35, 37, 39, 41, 43, 45, 47, 49, 51, 53, 55, 57, 59, 61, 63, 65, 67, 69, 71, 73, 75, 77, 79, 81, 83, 85, 87, 89, 91, 93, 95, 97, 99]\n",
            "[2, 4, 6, 8, 10, 12, 14, 16, 18, 20, 22, 24, 26, 28, 30, 32, 34, 36, 38, 40, 42, 44, 46, 48, 50, 52, 54, 56, 58, 60, 62, 64, 66, 68, 70, 72, 74, 76, 78, 80, 82, 84, 86, 88, 90, 92, 94, 96, 98, 100]\n"
          ]
        }
      ]
    },
    {
      "cell_type": "code",
      "source": [
        "''' write a program to print '''\n",
        "\n",
        "num = int(input(\"Enter a value:\"))\n",
        "\n",
        "mul = 1\n",
        "\n",
        "for i in range(1,num+1):\n",
        "  mul = mul*i\n",
        "print(\"The total value:\",mul)"
      ],
      "metadata": {
        "colab": {
          "base_uri": "https://localhost:8080/"
        },
        "id": "WQqUF-4D2-Nh",
        "outputId": "2f20fcc0-fcf2-4dc7-f99e-91f9470e1f2d"
      },
      "execution_count": null,
      "outputs": [
        {
          "output_type": "stream",
          "name": "stdout",
          "text": [
            "Enter a value:5\n",
            "The total value: 120\n"
          ]
        }
      ]
    },
    {
      "cell_type": "code",
      "source": [
        "'''write a program to print combined all the letters'''\n",
        "a='Mohan'\n",
        "b='loves'\n",
        "c='python'\n",
        "\n",
        "print(a+\" \"+b+\" \"+c)"
      ],
      "metadata": {
        "colab": {
          "base_uri": "https://localhost:8080/"
        },
        "id": "Hg6U4NK451u5",
        "outputId": "4770de76-6902-4dba-f53b-2a5dad5fc831"
      },
      "execution_count": null,
      "outputs": [
        {
          "output_type": "stream",
          "name": "stdout",
          "text": [
            "Mohan loves python\n"
          ]
        }
      ]
    },
    {
      "cell_type": "code",
      "source": [
        "'''write a program take a input for the user and print the name & find the length of the character.'''\n",
        "\n",
        "name=input(\"Enter a user name:\")\n",
        "print(\"The enter name is:\" +name)\n",
        "print(len(name))\n"
      ],
      "metadata": {
        "colab": {
          "base_uri": "https://localhost:8080/"
        },
        "id": "FT3Dco8b6wHb",
        "outputId": "f69b7337-a492-464d-da05-d73fe55739b0"
      },
      "execution_count": null,
      "outputs": [
        {
          "output_type": "stream",
          "name": "stdout",
          "text": [
            "Enter a user name:suma\n",
            "The enter name is:suma\n",
            "4\n"
          ]
        }
      ]
    },
    {
      "cell_type": "code",
      "source": [
        "\"Write a program to print student details.\"\n",
        "\n",
        "First_name = input(\"Enter a first_nam:\")\n",
        "Second_name = input(\"Enter a second_name:\")\n",
        "Roll_number = input(\"Enter a roll number:\")\n",
        "\n",
        "print (\"Student_name:\", First_name +\" \"+ Second_name)\n",
        "print (\"Student Roll number:\", Roll_number)"
      ],
      "metadata": {
        "colab": {
          "base_uri": "https://localhost:8080/"
        },
        "id": "cX5War9GUbGy",
        "outputId": "c610658c-8bf4-48ab-86c9-3c83ad7fa345"
      },
      "execution_count": null,
      "outputs": [
        {
          "output_type": "stream",
          "name": "stdout",
          "text": [
            "Enter a first_nam:RAM\n",
            "Enter a second_name:KUMAR\n",
            "Enter a roll number:08A11A0544\n",
            "Student_name: RAM KUMAR\n",
            "Student Roll number: 08A11A0544\n"
          ]
        }
      ]
    },
    {
      "cell_type": "code",
      "source": [
        "\"Create a list enter 1 t- 10 number and show the odd and even numbers.\"\n",
        "\n",
        "new_list = [1,2,3,4,5,6,7,8,9,10]\n",
        "odd_list=[]\n",
        "even_list=[]\n",
        "for i in new_list:\n",
        "  if i%2==1:\n",
        "    odd_list.append(i)\n",
        "  else:\n",
        "    even_list.append(i)\n",
        "print(\"Odd numbers\",odd_list)\n",
        "print(\"Even numbers\",even_list)"
      ],
      "metadata": {
        "colab": {
          "base_uri": "https://localhost:8080/"
        },
        "id": "87g-yjVMY7Yi",
        "outputId": "a7949c5a-df52-49de-b1f6-7d588d022a55"
      },
      "execution_count": null,
      "outputs": [
        {
          "output_type": "stream",
          "name": "stdout",
          "text": [
            "Odd numbers [1, 3, 5, 7, 9]\n",
            "Even numbers [2, 4, 6, 8, 10]\n"
          ]
        }
      ]
    },
    {
      "cell_type": "code",
      "source": [
        "\"Write a program to remove the dublicate values on the list.\"\n",
        "arr = [2,2,3,3,4,4,5,5,6,6,7,7,8,8,9,9]\n",
        "\n",
        "num=[]\n",
        "\n",
        "for i in arr:\n",
        "  if (i not in num):\n",
        "    num.append(i)\n",
        "print(num)"
      ],
      "metadata": {
        "colab": {
          "base_uri": "https://localhost:8080/"
        },
        "id": "FJRt9L3djShS",
        "outputId": "44b15ba1-ea59-495e-a7a9-44ba5d7ecf65"
      },
      "execution_count": null,
      "outputs": [
        {
          "output_type": "stream",
          "name": "stdout",
          "text": [
            "[2, 3, 4, 5, 6, 7, 8, 9]\n"
          ]
        }
      ]
    },
    {
      "cell_type": "code",
      "source": [
        "\"Write a program to print the table.\"\n",
        "\n",
        "num = int(input(\"Enter a value:\"))\n",
        "\n",
        "for i in range(1,21):\n",
        "  print(num, '*', i, \"=\", num*i)"
      ],
      "metadata": {
        "colab": {
          "base_uri": "https://localhost:8080/"
        },
        "id": "cLQ44JAMo-B7",
        "outputId": "45ba2a67-f414-4159-96a9-c5daac0629b7"
      },
      "execution_count": null,
      "outputs": [
        {
          "output_type": "stream",
          "name": "stdout",
          "text": [
            "Enter a value:2\n",
            "2 * 1 = 2\n",
            "2 * 2 = 4\n",
            "2 * 3 = 6\n",
            "2 * 4 = 8\n",
            "2 * 5 = 10\n",
            "2 * 6 = 12\n",
            "2 * 7 = 14\n",
            "2 * 8 = 16\n",
            "2 * 9 = 18\n",
            "2 * 10 = 20\n",
            "2 * 11 = 22\n",
            "2 * 12 = 24\n",
            "2 * 13 = 26\n",
            "2 * 14 = 28\n",
            "2 * 15 = 30\n",
            "2 * 16 = 32\n",
            "2 * 17 = 34\n",
            "2 * 18 = 36\n",
            "2 * 19 = 38\n",
            "2 * 20 = 40\n"
          ]
        }
      ]
    },
    {
      "cell_type": "code",
      "source": [
        "\"Write a program  string is palindrome or not.\"\n",
        "\n",
        "name = input(\"Enter a value:\")\n",
        "\n",
        "rev_name = name[::-1]\n",
        "\n",
        "print(rev_name)\n",
        "\n",
        "if rev_name==name:\n",
        "  print(\"it is a palindrome.\")\n",
        "else:\n",
        "  print(\"it is not a plaindrome\")"
      ],
      "metadata": {
        "colab": {
          "base_uri": "https://localhost:8080/"
        },
        "id": "krXDPKDqqDP7",
        "outputId": "8a4a25fe-0dc5-4dd5-ecdd-79f4b086fa67"
      },
      "execution_count": null,
      "outputs": [
        {
          "output_type": "stream",
          "name": "stdout",
          "text": [
            "Enter a value:010\n",
            "010\n",
            "it is a palindrome.\n"
          ]
        }
      ]
    },
    {
      "cell_type": "code",
      "source": [
        "\"Write a program to swap to number\"\n",
        "a,b=10,20\n",
        "\n",
        "a = a+b\n",
        "b = a-b\n",
        "a = a-b\n",
        "\n",
        "print(a)\n",
        "print(b)"
      ],
      "metadata": {
        "colab": {
          "base_uri": "https://localhost:8080/"
        },
        "id": "Ji6r-T4Criu7",
        "outputId": "bd7d7dd9-171d-427f-c1c0-879946c78880"
      },
      "execution_count": null,
      "outputs": [
        {
          "output_type": "stream",
          "name": "stdout",
          "text": [
            "20\n",
            "10\n"
          ]
        }
      ]
    },
    {
      "cell_type": "code",
      "source": [
        "\"Write a program multiple list of string print in the single list.\"\n",
        "\n",
        "ip = [1,2,3,[4,5,[6,7,[8,[9,10,[11,[12,[13,]]]]]]]]\n",
        "\n",
        "result = []\n",
        "\n",
        "def rnf(item):\n",
        "  for i in item:\n",
        "    if type(i) is list:\n",
        "      rnf(i)\n",
        "    else:\n",
        "      result.append(i)\n",
        "rnf(ip)\n",
        "\n",
        "print('ip=', result)"
      ],
      "metadata": {
        "colab": {
          "base_uri": "https://localhost:8080/"
        },
        "id": "sxJ8PBYeyHFT",
        "outputId": "eff267c1-3efb-45c3-939d-49162d56878d"
      },
      "execution_count": null,
      "outputs": [
        {
          "output_type": "stream",
          "name": "stdout",
          "text": [
            "ip= [1, 2, 3, 4, 5, 6, 7, 8, 9, 10, 11, 12, 13]\n"
          ]
        }
      ]
    },
    {
      "cell_type": "code",
      "source": [
        "\"Write a program to covert float value to integer value.\"\n",
        "\n",
        "n = 1234.6\n",
        "nn=int(n)\n",
        "print(nn)"
      ],
      "metadata": {
        "colab": {
          "base_uri": "https://localhost:8080/"
        },
        "id": "VdSR0o5-33uI",
        "outputId": "bb7c2ded-d8b0-4a82-80f1-4ef07ccaa024"
      },
      "execution_count": null,
      "outputs": [
        {
          "output_type": "stream",
          "name": "stdout",
          "text": [
            "1234\n"
          ]
        }
      ]
    },
    {
      "cell_type": "code",
      "source": [
        "\"Write a program to use function.\"\n",
        "\n",
        "def function():\n",
        "  print(\"Hello\")\n",
        "  print(\"kavya\")\n",
        "  print(\"Bye\")\n",
        "\n",
        "\n",
        "function()"
      ],
      "metadata": {
        "colab": {
          "base_uri": "https://localhost:8080/"
        },
        "id": "95omV4df5aK-",
        "outputId": "51e84e68-cac7-4553-8d55-62465f933a4b"
      },
      "execution_count": null,
      "outputs": [
        {
          "output_type": "stream",
          "name": "stdout",
          "text": [
            "Hello\n",
            "kavya\n",
            "Bye\n"
          ]
        }
      ]
    },
    {
      "cell_type": "code",
      "source": [
        "\"Write  a program to pick the details in the list.\"\n",
        "\n",
        "num = [12,10,9,44,88]\n",
        "print(min(num),max(num))\n",
        "\n",
        "num.sort()\n",
        "print(num[0])\n",
        "print(num[-1])"
      ],
      "metadata": {
        "colab": {
          "base_uri": "https://localhost:8080/"
        },
        "id": "-ZpjIrzz53ss",
        "outputId": "bfbbe29a-0359-4d60-8499-6702095e5f24"
      },
      "execution_count": null,
      "outputs": [
        {
          "output_type": "stream",
          "name": "stdout",
          "text": [
            "9 88\n",
            "9\n",
            "88\n"
          ]
        }
      ]
    },
    {
      "cell_type": "code",
      "source": [
        "\"Write a program to print add 3 numbers\"\n",
        "\n",
        "a=25\n",
        "b=35\n",
        "\n",
        "print(a+b)"
      ],
      "metadata": {
        "colab": {
          "base_uri": "https://localhost:8080/"
        },
        "id": "kOWHRjxMMiYU",
        "outputId": "86bf14f7-7f45-479c-8e04-fad09f60b98c"
      },
      "execution_count": null,
      "outputs": [
        {
          "output_type": "stream",
          "name": "stdout",
          "text": [
            "60\n"
          ]
        }
      ]
    },
    {
      "cell_type": "code",
      "source": [
        "value = 42\n",
        "new_value = int(input())\n",
        "value = new_value\n",
        "\n",
        "print(\"updated value :\" , value)"
      ],
      "metadata": {
        "colab": {
          "base_uri": "https://localhost:8080/"
        },
        "id": "4VldM64cNTRt",
        "outputId": "6d5d8688-06e2-49fa-a657-dc3b20dcfe72"
      },
      "execution_count": null,
      "outputs": [
        {
          "output_type": "stream",
          "name": "stdout",
          "text": [
            "45\n",
            "updated value : 45\n"
          ]
        }
      ]
    },
    {
      "cell_type": "code",
      "source": [
        "\"Write a program to use while loop\"\n",
        "\n",
        "num=10\n",
        "while num>=0:\n",
        "  num = num-1\n",
        "  print(num)"
      ],
      "metadata": {
        "colab": {
          "base_uri": "https://localhost:8080/"
        },
        "id": "9oa2XN8qDc5y",
        "outputId": "8702438f-87b7-41c7-8882-90a328f4383b"
      },
      "execution_count": null,
      "outputs": [
        {
          "output_type": "stream",
          "name": "stdout",
          "text": [
            "9\n",
            "8\n",
            "7\n",
            "6\n",
            "5\n",
            "4\n",
            "3\n",
            "2\n",
            "1\n",
            "0\n",
            "-1\n"
          ]
        }
      ]
    },
    {
      "cell_type": "code",
      "source": [
        "\"Write a program to print list.\"\n",
        "\n",
        "fruits = ['Apple','Orange','Grapes','Guava','Mango']\n",
        "price = [120,155,250,210,220]\n",
        "\n",
        "'''print(fruits,price)'''\n",
        "\n",
        "new_price = {'fruits','price'}\n",
        "\n",
        "print(new_price)"
      ],
      "metadata": {
        "colab": {
          "base_uri": "https://localhost:8080/"
        },
        "id": "K6WOQfVPIvc_",
        "outputId": "e3058a36-1e4c-4f64-afd3-85334131bdc8"
      },
      "execution_count": null,
      "outputs": [
        {
          "output_type": "stream",
          "name": "stdout",
          "text": [
            "{'price', 'fruits'}\n"
          ]
        }
      ]
    },
    {
      "cell_type": "code",
      "source": [
        "\"Write a program to convert lower case to upper case.\"\n",
        "\n",
        "my_string = 'i am a student'\n",
        "\n",
        "new = my_string.upper()\n",
        "print(new)\n",
        "\n"
      ],
      "metadata": {
        "colab": {
          "base_uri": "https://localhost:8080/"
        },
        "id": "3Z7skfAPSlUY",
        "outputId": "f31c217e-273f-49ce-8a6b-95a878c57446"
      },
      "execution_count": null,
      "outputs": [
        {
          "output_type": "stream",
          "name": "stdout",
          "text": [
            "I AM A STUDENT\n"
          ]
        }
      ]
    },
    {
      "cell_type": "code",
      "source": [
        "\"Write a program to reverse the list\"\n",
        "\n",
        "my_list = [1,2,3,4,5,6]\n",
        "mm = my_list.reverse()\n",
        "print(my_list)\n"
      ],
      "metadata": {
        "colab": {
          "base_uri": "https://localhost:8080/"
        },
        "id": "M538uhzxVwbp",
        "outputId": "a35fa1c0-e1d7-4e2e-edd4-8786dc41ef1b"
      },
      "execution_count": null,
      "outputs": [
        {
          "output_type": "stream",
          "name": "stdout",
          "text": [
            "[6, 5, 4, 3, 2, 1]\n"
          ]
        }
      ]
    },
    {
      "cell_type": "code",
      "source": [
        "\"Write a program to remove the some elements in list\"\n",
        "\n",
        "my_kk = [1,2,3,4,5,6,7,8]\n",
        "\n",
        "my_kk.remove(7)\n",
        "\n",
        "print(my_kk)"
      ],
      "metadata": {
        "colab": {
          "base_uri": "https://localhost:8080/"
        },
        "id": "HfVMUVXFW6vd",
        "outputId": "916d437c-d36a-4a90-f553-76693a9f3bff"
      },
      "execution_count": null,
      "outputs": [
        {
          "output_type": "stream",
          "name": "stdout",
          "text": [
            "[1, 2, 3, 4, 5, 6, 8]\n"
          ]
        }
      ]
    },
    {
      "cell_type": "code",
      "source": [
        "\"Write a program to print calender\"\n",
        "\n",
        "import calendar\n",
        "\n",
        "x = calendar.TextCalendar()\n",
        "print(x.pryear(2023))"
      ],
      "metadata": {
        "colab": {
          "base_uri": "https://localhost:8080/"
        },
        "id": "DL6hVzLcXsGY",
        "outputId": "e3576623-bfe8-4053-ae72-4f46f3a1e21f"
      },
      "execution_count": null,
      "outputs": [
        {
          "output_type": "stream",
          "name": "stdout",
          "text": [
            "                                  2023\n",
            "\n",
            "      January                   February                   March\n",
            "Mo Tu We Th Fr Sa Su      Mo Tu We Th Fr Sa Su      Mo Tu We Th Fr Sa Su\n",
            "                   1             1  2  3  4  5             1  2  3  4  5\n",
            " 2  3  4  5  6  7  8       6  7  8  9 10 11 12       6  7  8  9 10 11 12\n",
            " 9 10 11 12 13 14 15      13 14 15 16 17 18 19      13 14 15 16 17 18 19\n",
            "16 17 18 19 20 21 22      20 21 22 23 24 25 26      20 21 22 23 24 25 26\n",
            "23 24 25 26 27 28 29      27 28                     27 28 29 30 31\n",
            "30 31\n",
            "\n",
            "       April                      May                       June\n",
            "Mo Tu We Th Fr Sa Su      Mo Tu We Th Fr Sa Su      Mo Tu We Th Fr Sa Su\n",
            "                1  2       1  2  3  4  5  6  7                1  2  3  4\n",
            " 3  4  5  6  7  8  9       8  9 10 11 12 13 14       5  6  7  8  9 10 11\n",
            "10 11 12 13 14 15 16      15 16 17 18 19 20 21      12 13 14 15 16 17 18\n",
            "17 18 19 20 21 22 23      22 23 24 25 26 27 28      19 20 21 22 23 24 25\n",
            "24 25 26 27 28 29 30      29 30 31                  26 27 28 29 30\n",
            "\n",
            "        July                     August                  September\n",
            "Mo Tu We Th Fr Sa Su      Mo Tu We Th Fr Sa Su      Mo Tu We Th Fr Sa Su\n",
            "                1  2          1  2  3  4  5  6                   1  2  3\n",
            " 3  4  5  6  7  8  9       7  8  9 10 11 12 13       4  5  6  7  8  9 10\n",
            "10 11 12 13 14 15 16      14 15 16 17 18 19 20      11 12 13 14 15 16 17\n",
            "17 18 19 20 21 22 23      21 22 23 24 25 26 27      18 19 20 21 22 23 24\n",
            "24 25 26 27 28 29 30      28 29 30 31               25 26 27 28 29 30\n",
            "31\n",
            "\n",
            "      October                   November                  December\n",
            "Mo Tu We Th Fr Sa Su      Mo Tu We Th Fr Sa Su      Mo Tu We Th Fr Sa Su\n",
            "                   1             1  2  3  4  5                   1  2  3\n",
            " 2  3  4  5  6  7  8       6  7  8  9 10 11 12       4  5  6  7  8  9 10\n",
            " 9 10 11 12 13 14 15      13 14 15 16 17 18 19      11 12 13 14 15 16 17\n",
            "16 17 18 19 20 21 22      20 21 22 23 24 25 26      18 19 20 21 22 23 24\n",
            "23 24 25 26 27 28 29      27 28 29 30               25 26 27 28 29 30 31\n",
            "30 31\n",
            "None\n"
          ]
        }
      ]
    },
    {
      "cell_type": "code",
      "source": [
        "\"Write a program to covert kilometer to miles\"\n",
        "\n",
        "kilometer = float(input(\"Enter a value:\"))\n",
        "\n",
        "miles = kilometer * 0.621371\n",
        "\n",
        "print(\"Total miles:\",miles)"
      ],
      "metadata": {
        "colab": {
          "base_uri": "https://localhost:8080/"
        },
        "id": "SJoA2FEuY3uO",
        "outputId": "6746e3e2-1b29-43a8-e97e-b4856fc6a031"
      },
      "execution_count": null,
      "outputs": [
        {
          "output_type": "stream",
          "name": "stdout",
          "text": [
            "Enter a value:5\n",
            "Total miles: 3.106855\n"
          ]
        }
      ]
    },
    {
      "cell_type": "code",
      "source": [
        "\"write a program to count upper.\"\n",
        "\n",
        "string = input(\"Enter a value:\")\n",
        "\n",
        "count1 = 0\n",
        "count2 = 0\n",
        "for i in string:\n",
        "  if (i.islower()):\n",
        "    count1 +=1\n",
        "  elif (i.isupper()):\n",
        "    count2 +=1\n",
        "print(\"The total lower case letter:\",+count1)\n",
        "print(\"The total lower case letter:\",+count2)"
      ],
      "metadata": {
        "id": "pWKGbxUqcbOD",
        "colab": {
          "base_uri": "https://localhost:8080/"
        },
        "outputId": "1aba89b7-082c-48f1-b55b-91b626e29324"
      },
      "execution_count": null,
      "outputs": [
        {
          "output_type": "stream",
          "name": "stdout",
          "text": [
            "Enter a value:uuuUUU\n",
            "The total lower case letter: 3\n",
            "The total lower case letter: 3\n"
          ]
        }
      ]
    },
    {
      "cell_type": "code",
      "source": [
        "\n",
        "\"Write a program to convert celcius to fahrenheit\"\n",
        "\n",
        "celcius = float(input(\"Enter a value:\"))\n",
        "fahrenheit = (celcius*(9/5)+32)\n",
        "print(fahrenheit)\n"
      ],
      "metadata": {
        "colab": {
          "base_uri": "https://localhost:8080/"
        },
        "id": "Y8UG11ZfbygO",
        "outputId": "c29beafb-30ef-447f-f474-f2ce5dc38c72"
      },
      "execution_count": null,
      "outputs": [
        {
          "output_type": "stream",
          "name": "stdout",
          "text": [
            "Enter a value:32\n",
            "89.6\n"
          ]
        }
      ]
    },
    {
      "cell_type": "code",
      "source": [
        "\"Write a program to use while loop to print 1 to 10\"\n",
        "\n",
        "n = 0\n",
        "num1=[]\n",
        "while n<=9:\n",
        "  n = n+1\n",
        "  num1.append(n)\n",
        "\n",
        "print(num1)"
      ],
      "metadata": {
        "colab": {
          "base_uri": "https://localhost:8080/"
        },
        "id": "fQXBCKaJANQs",
        "outputId": "ebeae2b9-66a4-4974-811f-f6849a591690"
      },
      "execution_count": null,
      "outputs": [
        {
          "output_type": "stream",
          "name": "stdout",
          "text": [
            "[1, 2, 3, 4, 5, 6, 7, 8, 9, 10]\n"
          ]
        }
      ]
    },
    {
      "cell_type": "code",
      "source": [
        "\"Write a program to compare the value a,b,c and confirm which value is greater one\"\n",
        "\n",
        "a = int(input(\"Enter a a value:\"))\n",
        "b = int(input(\"Enter a b value:\"))\n",
        "c = int(input(\"Enter a c value:\"))\n",
        "\n",
        "if a>b and a>c:\n",
        "  print(\"a is greater one\")\n",
        "elif b>c and b>a:\n",
        "  print(\"b is greater one\")\n",
        "elif c>a and c>b:\n",
        "  print(\"c is greater one\")\n",
        "else:\n",
        "  print(\"All are equal\")"
      ],
      "metadata": {
        "colab": {
          "base_uri": "https://localhost:8080/"
        },
        "id": "g3IGhFBMAziP",
        "outputId": "9ae80549-cec9-470e-bdf9-df677870b05d"
      },
      "execution_count": null,
      "outputs": [
        {
          "output_type": "stream",
          "name": "stdout",
          "text": [
            "Enter a a value:5\n",
            "Enter a b value:5\n",
            "Enter a c value:5\n",
            "All are equal\n"
          ]
        }
      ]
    },
    {
      "cell_type": "code",
      "source": [
        "n , n1 = False , True\n",
        "v = int(n)\n",
        "v1 = int(n1)\n",
        "print(v,v1)\n",
        "\n",
        "n = bool(v)\n",
        "n1 = bool(v1)\n",
        "\n",
        "print(n,n1)"
      ],
      "metadata": {
        "colab": {
          "base_uri": "https://localhost:8080/"
        },
        "id": "LmJn7xWMDPx6",
        "outputId": "256e27cf-262f-4c0d-b3b5-4b0867d11836"
      },
      "execution_count": null,
      "outputs": [
        {
          "output_type": "stream",
          "name": "stdout",
          "text": [
            "0 1\n",
            "False True\n"
          ]
        }
      ]
    },
    {
      "cell_type": "code",
      "source": [
        "name = \"Ram Kumar\"\n",
        "\n",
        "marks = 98.587\n",
        "\n",
        "print(\"The cantidate name {} and marks are {}\".format(name,marks))"
      ],
      "metadata": {
        "colab": {
          "base_uri": "https://localhost:8080/"
        },
        "id": "aWtHTtISNE__",
        "outputId": "8306ba69-b461-491b-db0d-ed8c5fd1d5d1"
      },
      "execution_count": null,
      "outputs": [
        {
          "output_type": "stream",
          "name": "stdout",
          "text": [
            "The cantidate name Ram Kumar and marks are 98.587\n"
          ]
        }
      ]
    },
    {
      "cell_type": "code",
      "source": [
        "'''Write a program and take the order 3\n",
        "pizzas and print the total cost of the pizza.'''\n",
        "\n",
        "print('''Press:\n",
        "\n",
        "1. Onions\n",
        "\n",
        "2.Lettuce\n",
        "\n",
        "3.Tomatoes\n",
        "\n",
        "4.Olives\n",
        "\n",
        "5.Peppers\n",
        "\n",
        "6.Carrot''')\n",
        "\n",
        "\n",
        "\n",
        "for i in range(1,4):\n",
        "\n",
        "    print(\"Enter Topping %d\"%(i))\n",
        "\n",
        "    input()\n",
        "\n",
        "\n",
        "\n",
        "n_san = int(input(\"Enter number of Sandwiches = \"))\n",
        "\n",
        "t_amount = n_san * 5;\n",
        "\n",
        "print(\"Total amount = $%d\"%t_amount)"
      ],
      "metadata": {
        "colab": {
          "base_uri": "https://localhost:8080/"
        },
        "id": "gevLI-zWTy3U",
        "outputId": "e5e08eaa-6512-40f4-ebf4-b9532e7497a1"
      },
      "execution_count": null,
      "outputs": [
        {
          "output_type": "stream",
          "name": "stdout",
          "text": [
            "Press:\n",
            "\n",
            "1. Onions\n",
            "\n",
            "2.Lettuce\n",
            "\n",
            "3.Tomatoes\n",
            "\n",
            "4.Olives\n",
            "\n",
            "5.Peppers\n",
            "\n",
            "6.Carrot\n",
            "Enter Topping 1\n",
            "5\n",
            "Enter Topping 2\n",
            "6\n",
            "Enter Topping 3\n",
            "1\n",
            "Enter number of Sandwiches = 3\n",
            "Total amount = $15\n"
          ]
        }
      ]
    },
    {
      "cell_type": "code",
      "source": [
        "\"Write a program to print the average of 3 numbers\"\n",
        "a,b,c = [int(x) for x in input(\"Enter a 3 values:\").split()]\n",
        "\n",
        "avg  = (a+b+c) / 3\n",
        "\n",
        "print(\"The average value:\",avg)\n"
      ],
      "metadata": {
        "colab": {
          "base_uri": "https://localhost:8080/"
        },
        "id": "8szdRM-nqg3U",
        "outputId": "3c1fea66-82ab-4e46-daa1-1f36c296a790"
      },
      "execution_count": null,
      "outputs": [
        {
          "output_type": "stream",
          "name": "stdout",
          "text": [
            "Enter a 3 values:5 10 15\n",
            "The average value: 10.0\n",
            "Enter a 3 values:6 12 18\n",
            "The average value: 12.0\n"
          ]
        }
      ]
    },
    {
      "cell_type": "code",
      "source": [
        "\"Write a program to find the area of the circle.\"\n",
        "\n",
        "r = float(input(\"Enter a value:\"))\n",
        "\n",
        "pi = 22/7\n",
        "\n",
        "area = pi*r**2\n",
        "\n",
        "print(area)"
      ],
      "metadata": {
        "colab": {
          "base_uri": "https://localhost:8080/"
        },
        "id": "uCycZ5bJrIci",
        "outputId": "faf6e20d-9aaa-4cf8-c087-beaea6d717f7"
      },
      "execution_count": null,
      "outputs": [
        {
          "output_type": "stream",
          "name": "stdout",
          "text": [
            "Enter a value:5\n",
            "78.57142857142857\n"
          ]
        }
      ]
    },
    {
      "cell_type": "code",
      "source": [
        "\"Write a prgram with use math module.\"\n",
        "\n",
        "import math\n",
        "\n",
        "r = float(input(\"Enter a value:\"))\n",
        "\n",
        "area = math.pi*r**2\n",
        "\n",
        "print(area)"
      ],
      "metadata": {
        "colab": {
          "base_uri": "https://localhost:8080/"
        },
        "id": "qCbxKu3YsoQU",
        "outputId": "6b68ccb4-6783-43aa-ad91-6c15390af8d0"
      },
      "execution_count": null,
      "outputs": [
        {
          "output_type": "stream",
          "name": "stdout",
          "text": [
            "Enter a value:5\n",
            "78.53981633974483\n"
          ]
        }
      ]
    },
    {
      "cell_type": "code",
      "source": [
        "a=int(input(\"Enter the marks for maths:\"))\n",
        "\n",
        "b=int(input(\"Enter the marks for physics:\"))\n",
        "\n",
        "c=int(input(\"Enter the marks for chemistry:\"))\n",
        "\n",
        "def avg(a,b,c):\n",
        "\n",
        "    return (a+b+c)/3\n",
        "\n",
        "\n",
        "\n",
        "if(a<35 or b< 35 or c <35):\n",
        "\n",
        "    print(\"You have failed\")\n",
        "\n",
        "elif(avg(a,b,c) <= 59):\n",
        "\n",
        "    print(\"Your grade is C\" )\n",
        "\n",
        "elif(avg(a,b,c) <=69 ):\n",
        "\n",
        "    print(\"Your grade is B\")\n",
        "\n",
        "else:\n",
        "\n",
        "    print(\"Your Grade is A\")"
      ],
      "metadata": {
        "colab": {
          "base_uri": "https://localhost:8080/"
        },
        "id": "rb6gk4sqy50k",
        "outputId": "820c8cdd-b939-4fb0-a7de-37350aa06bf0"
      },
      "execution_count": null,
      "outputs": [
        {
          "output_type": "stream",
          "name": "stdout",
          "text": [
            "Enter the marks for maths:99\n",
            "Enter the marks for physics:99\n",
            "Enter the marks for chemistry:99\n",
            "Your Grade is A\n"
          ]
        }
      ]
    },
    {
      "cell_type": "code",
      "source": [
        "\"\"\"Write a program and print the stars\"\"\"\n",
        "\n",
        "num = int(input(\"Enter a value:\"))\n",
        "\n",
        "for i in range(1,num+1):\n",
        "    for j in range(1,num+1):\n",
        "        print(\"* \", end=\"\")\n",
        "    print()"
      ],
      "metadata": {
        "colab": {
          "base_uri": "https://localhost:8080/"
        },
        "id": "TH6gLIC2pc63",
        "outputId": "6cced239-88cb-485a-c957-db57e4fdf298"
      },
      "execution_count": null,
      "outputs": [
        {
          "output_type": "stream",
          "name": "stdout",
          "text": [
            "Enter a value:5\n",
            "* * * * * \n",
            "* * * * * \n",
            "* * * * * \n",
            "* * * * * \n",
            "* * * * * \n"
          ]
        }
      ]
    },
    {
      "cell_type": "code",
      "source": [
        "\"Write a program to print the reverse the string.\"\n",
        "name = input(\"Enter a name:\")\n",
        "\n",
        "rev = \"\"\n",
        "for i in name:\n",
        "  rev = i+rev\n",
        "\n",
        "print(rev)\n"
      ],
      "metadata": {
        "colab": {
          "base_uri": "https://localhost:8080/"
        },
        "id": "ZOmcIPLspqcy",
        "outputId": "e2ec2daa-2ef7-4c7c-c3c3-50add173dacf"
      },
      "execution_count": null,
      "outputs": [
        {
          "output_type": "stream",
          "name": "stdout",
          "text": [
            "Enter a name:lllllkkkkuuuu\n",
            "uuuukkkklllll\n"
          ]
        }
      ]
    },
    {
      "cell_type": "code",
      "source": [
        "for i in range(1,6):\n",
        "  if i==3:\n",
        "    break\n",
        "  print(i)"
      ],
      "metadata": {
        "colab": {
          "base_uri": "https://localhost:8080/"
        },
        "id": "n79R-9HY5jE8",
        "outputId": "20bfd90b-fe64-4400-865a-7f7b17e1e03b"
      },
      "execution_count": null,
      "outputs": [
        {
          "output_type": "stream",
          "name": "stdout",
          "text": [
            "1\n",
            "2\n"
          ]
        }
      ]
    },
    {
      "cell_type": "code",
      "source": [
        "for i in range(1,6):\n",
        "  if i%2==0:\n",
        "    continue\n",
        "  print(i)\n"
      ],
      "metadata": {
        "colab": {
          "base_uri": "https://localhost:8080/"
        },
        "id": "cIPn29cz5-_4",
        "outputId": "df9b7f43-fae0-41aa-9bb8-39ee4d2cc5b1"
      },
      "execution_count": null,
      "outputs": [
        {
          "output_type": "stream",
          "name": "stdout",
          "text": [
            "1\n",
            "3\n",
            "5\n"
          ]
        }
      ]
    },
    {
      "cell_type": "code",
      "source": [
        "for i in range(1,6):\n",
        "  pass\n",
        "  print(i)\n"
      ],
      "metadata": {
        "colab": {
          "base_uri": "https://localhost:8080/"
        },
        "id": "0Imag5Gj6eAf",
        "outputId": "d3bbdaf3-dc1f-44c5-9801-ebcbbb56b966"
      },
      "execution_count": null,
      "outputs": [
        {
          "output_type": "stream",
          "name": "stdout",
          "text": [
            "1\n",
            "2\n",
            "3\n",
            "4\n",
            "5\n"
          ]
        }
      ]
    },
    {
      "cell_type": "code",
      "source": [
        "#Write a program and print the diamond.\n",
        "n = 5\n",
        "\n",
        "for i in range(1,n+1):\n",
        "  for j in range(i):\n",
        "    print(\"* \" ,end=\"\")\n",
        "  print()"
      ],
      "metadata": {
        "colab": {
          "base_uri": "https://localhost:8080/"
        },
        "id": "eUSSDaMa7ErF",
        "outputId": "2e383ef0-02d0-487b-d453-39355a1d8770"
      },
      "execution_count": null,
      "outputs": [
        {
          "output_type": "stream",
          "name": "stdout",
          "text": [
            "* \n",
            "* * \n",
            "* * * \n",
            "* * * * \n",
            "* * * * * \n"
          ]
        }
      ]
    },
    {
      "cell_type": "code",
      "source": [
        "n = 6\n",
        "\n",
        "for i in range(1,n+1):\n",
        "  for j in range(i-1):\n",
        "    print(\"x \" ,end =\" \")\n",
        "  print()"
      ],
      "metadata": {
        "colab": {
          "base_uri": "https://localhost:8080/"
        },
        "id": "j8cHAPoSLYla",
        "outputId": "735cb399-b4e6-4807-9038-dd5f42627136"
      },
      "execution_count": null,
      "outputs": [
        {
          "output_type": "stream",
          "name": "stdout",
          "text": [
            "\n",
            "x  \n",
            "x  x  \n",
            "x  x  x  \n",
            "x  x  x  x  \n",
            "x  x  x  x  x  \n"
          ]
        }
      ]
    },
    {
      "cell_type": "code",
      "source": [
        "m = int(input(\"Enter a value::\"))\n",
        "n = int(input(\"Enter a value::\"))\n",
        "\n",
        "c=m\n",
        "s = 0\n",
        "\n",
        "while c<m+n:\n",
        "    s = s+c\n",
        "    c = c+1\n",
        "print(s)\n"
      ],
      "metadata": {
        "colab": {
          "base_uri": "https://localhost:8080/"
        },
        "id": "Vbny9-loa9YM",
        "outputId": "91e8c56c-b22f-4eb5-dfee-6755a05fb376"
      },
      "execution_count": null,
      "outputs": [
        {
          "output_type": "stream",
          "name": "stdout",
          "text": [
            "Enter a value::3\n",
            "Enter a value::2\n",
            "7\n"
          ]
        }
      ]
    },
    {
      "cell_type": "code",
      "source": [
        "num = int(input(\"Enter a value:\"))\n",
        "\n",
        "for i in range(1,num+1):\n",
        "  for j in range(2,i):\n",
        "    if i%2==0:\n",
        "      break\n",
        "  else:\n",
        "    print(i)"
      ],
      "metadata": {
        "colab": {
          "base_uri": "https://localhost:8080/"
        },
        "id": "msUz0opgMhZB",
        "outputId": "f21aedf6-4cca-4438-ebbe-4939d3bcaee8"
      },
      "execution_count": null,
      "outputs": [
        {
          "output_type": "stream",
          "name": "stdout",
          "text": [
            "Enter a value:21\n",
            "1\n",
            "2\n",
            "3\n",
            "5\n",
            "7\n",
            "9\n",
            "11\n",
            "13\n",
            "15\n",
            "17\n",
            "19\n",
            "21\n"
          ]
        }
      ]
    },
    {
      "cell_type": "code",
      "source": [
        "nn = [1,1,2,2,3,3,4,4,5,5]\n",
        "\n",
        "num1 = []\n",
        "\n",
        "for i in nn:\n",
        "  if i not in num1:\n",
        "    num1.append(i)\n",
        "\n",
        "print(num1)"
      ],
      "metadata": {
        "colab": {
          "base_uri": "https://localhost:8080/"
        },
        "id": "CYe12BObPvG8",
        "outputId": "b9a24848-7b2c-429d-efaf-078756340938"
      },
      "execution_count": null,
      "outputs": [
        {
          "output_type": "stream",
          "name": "stdout",
          "text": [
            "[1, 2, 3, 4, 5]\n"
          ]
        }
      ]
    },
    {
      "cell_type": "code",
      "source": [
        "\"Write a prgram and print the 0.\"\n",
        "\n",
        "num = int(input(\"Enter a value:\"))\n",
        "\n",
        "for i in range(num):\n",
        "  print(0)"
      ],
      "metadata": {
        "colab": {
          "base_uri": "https://localhost:8080/"
        },
        "id": "GL078K47R8na",
        "outputId": "96380c3e-4831-43fc-c4c2-486f9710916d"
      },
      "execution_count": null,
      "outputs": [
        {
          "output_type": "stream",
          "name": "stdout",
          "text": [
            "Enter a value:3\n",
            "0\n",
            "0\n",
            "0\n"
          ]
        }
      ]
    },
    {
      "cell_type": "code",
      "source": [
        "n = int(input(\"Enter a value:\\t\"))\n",
        "\n",
        "c = 0\n",
        "\n",
        "while c<n:\n",
        "  print(0)\n",
        "  c +=1"
      ],
      "metadata": {
        "colab": {
          "base_uri": "https://localhost:8080/"
        },
        "id": "g4U_YEtNSjo5",
        "outputId": "18630c4f-9aa8-47ba-e079-061f0eae77d6"
      },
      "execution_count": null,
      "outputs": [
        {
          "output_type": "stream",
          "name": "stdout",
          "text": [
            "Enter a value:\t3\n",
            "0\n",
            "0\n",
            "0\n"
          ]
        }
      ]
    },
    {
      "cell_type": "code",
      "source": [
        "\"Write a program and print the average.\"\n",
        "\n",
        "n = int(input(\"Enter a value:\"))\n",
        "\n",
        "s = 0\n",
        "c = 1\n",
        "while c<=n:\n",
        "  s = s+c\n",
        "  c = c+1\n",
        "print(\"The total average value:\",s/n)"
      ],
      "metadata": {
        "colab": {
          "base_uri": "https://localhost:8080/"
        },
        "id": "ik7PjCmQE7t0",
        "outputId": "9380c0e6-e4b6-430c-b4ae-ea3b5b5ea94b"
      },
      "execution_count": null,
      "outputs": [
        {
          "output_type": "stream",
          "name": "stdout",
          "text": [
            "Enter a value:2\n",
            "The total average value: 1.5\n"
          ]
        }
      ]
    },
    {
      "cell_type": "code",
      "source": [
        "\"Write a program and print the all cube values\"\n",
        "n = int(input(\"Enter a value:\"))\n",
        "c=1\n",
        "\n",
        "while c<=n:\n",
        "  print(c**3)\n",
        "  c = c + 1"
      ],
      "metadata": {
        "colab": {
          "base_uri": "https://localhost:8080/"
        },
        "id": "EaGjNYSHG-bJ",
        "outputId": "9c685647-9084-481d-8e73-7b5f59969ad3"
      },
      "execution_count": null,
      "outputs": [
        {
          "output_type": "stream",
          "name": "stdout",
          "text": [
            "Enter a value:4\n",
            "1\n",
            "8\n",
            "27\n",
            "64\n"
          ]
        }
      ]
    },
    {
      "cell_type": "code",
      "source": [
        "\"Write a program to print solid rectangle\"\n",
        "\n",
        "n = int(input(\"Enter a value:\"))\n",
        "m = int(input(\"Enter a value:\"))\n",
        "c = 0\n",
        "\n",
        "while c<m:\n",
        "  print(\"* \"*n)\n",
        "  c = c+1"
      ],
      "metadata": {
        "colab": {
          "base_uri": "https://localhost:8080/"
        },
        "id": "nmhhIh7SJ6GV",
        "outputId": "838cc80f-9e45-48a4-8df6-cfa7b82c346d"
      },
      "execution_count": null,
      "outputs": [
        {
          "output_type": "stream",
          "name": "stdout",
          "text": [
            "Enter a value:4\n",
            "Enter a value:5\n",
            "* * * * \n",
            "* * * * \n",
            "* * * * \n",
            "* * * * \n",
            "* * * * \n"
          ]
        }
      ]
    },
    {
      "cell_type": "code",
      "source": [
        "\"Write a program and print the 2 after till 12\"\n",
        "\n",
        "n = int(input(\"Enter a value:\"))\n",
        "c = n+1\n",
        "while c<=n+10:\n",
        "  print(c)\n",
        "  c = c+1"
      ],
      "metadata": {
        "colab": {
          "base_uri": "https://localhost:8080/"
        },
        "id": "Ow4lKNuzNm2C",
        "outputId": "002c5738-606f-4943-e7a5-f51f85a795dd"
      },
      "execution_count": null,
      "outputs": [
        {
          "output_type": "stream",
          "name": "stdout",
          "text": [
            "Enter a value:5\n",
            "6\n",
            "7\n",
            "8\n",
            "9\n",
            "10\n",
            "11\n",
            "12\n",
            "13\n",
            "14\n",
            "15\n"
          ]
        }
      ]
    },
    {
      "cell_type": "code",
      "source": [],
      "metadata": {
        "colab": {
          "base_uri": "https://localhost:8080/"
        },
        "id": "BHbPVrvgqfQV",
        "outputId": "7286ff25-2395-46e2-e3f0-bf802d72b148"
      },
      "execution_count": null,
      "outputs": [
        {
          "output_type": "stream",
          "name": "stdout",
          "text": [
            "Enter a value:5\n",
            "3\n",
            "4\n",
            "4\n",
            "5\n"
          ]
        }
      ]
    },
    {
      "cell_type": "code",
      "source": [
        "n = int(input(\"Enter a value:\"))\n",
        "c=1\n",
        "s=0\n",
        "while c<=n:\n",
        "    s=s+c\n",
        "    c=c+1\n",
        "print(\"The sum is :\",s)"
      ],
      "metadata": {
        "colab": {
          "base_uri": "https://localhost:8080/"
        },
        "id": "dBSsla_2bJrF",
        "outputId": "86b2f2f4-39db-4849-dbbc-b60f7a908c23"
      },
      "execution_count": null,
      "outputs": [
        {
          "output_type": "stream",
          "name": "stdout",
          "text": [
            "Enter a value:10\n",
            "The sum is : 55\n"
          ]
        }
      ]
    },
    {
      "cell_type": "code",
      "source": [
        "n = int(input(\"Enter a value:\"))\n",
        "\n",
        "c =0\n",
        "nn=[]\n",
        "while c<n:\n",
        "    a=int(input(\"Enter a value:\"))\n",
        "    c=c+1\n",
        "    nn.append(a)\n",
        "print(nn)"
      ],
      "metadata": {
        "colab": {
          "base_uri": "https://localhost:8080/"
        },
        "id": "Bq7uVSSBgXZp",
        "outputId": "e8f337e3-2fc6-40bb-8b54-2f2b6c5fde2e"
      },
      "execution_count": null,
      "outputs": [
        {
          "output_type": "stream",
          "name": "stdout",
          "text": [
            "Enter a value:3\n",
            "Enter a value:1\n",
            "Enter a value:1\n",
            "Enter a value:1\n",
            "[1, 1, 1]\n"
          ]
        }
      ]
    },
    {
      "cell_type": "code",
      "source": [
        "n = int(input(\"Enter a value:\"))\n",
        "\n",
        "mul =1\n",
        "\n",
        "for i in range(1,n+1):\n",
        "    mul = mul*i\n",
        "print(\"The product value:\",mul)"
      ],
      "metadata": {
        "colab": {
          "base_uri": "https://localhost:8080/"
        },
        "id": "gHQV9kWihtv_",
        "outputId": "08e50021-8cf1-4865-bff5-012110728915"
      },
      "execution_count": null,
      "outputs": [
        {
          "output_type": "stream",
          "name": "stdout",
          "text": [
            "Enter a value:5\n",
            "The product value: 120\n"
          ]
        }
      ]
    },
    {
      "cell_type": "code",
      "source": [
        "\"Write a  program and sum of the input numbers\"\n",
        "\n",
        "n = int(input(\"Enter a value:\"))\n",
        "c=0\n",
        "p=0\n",
        "while c<n:\n",
        "  a=int(input(\"Enter a value:\"))\n",
        "  c=c+1\n",
        "  p=p+a\n",
        "print(\"the sum value:\",p)"
      ],
      "metadata": {
        "colab": {
          "base_uri": "https://localhost:8080/"
        },
        "id": "-co3rpgE8o3y",
        "outputId": "3ae28a3d-0c5c-4656-ddde-58ff98d8d35a"
      },
      "execution_count": null,
      "outputs": [
        {
          "output_type": "stream",
          "name": "stdout",
          "text": [
            "Enter a value:2\n",
            "Enter a value:7\n",
            "Enter a value:5\n",
            "the sum value: 12\n"
          ]
        }
      ]
    },
    {
      "cell_type": "code",
      "source": [
        "\"Write a program to print all capital letter A-Z\"\n",
        "\n",
        "cap = []\n",
        "\n",
        "for i in range(65,91):\n",
        "  cap.append(chr(i))\n",
        "print(cap)"
      ],
      "metadata": {
        "colab": {
          "base_uri": "https://localhost:8080/"
        },
        "id": "g30VqypDPK6X",
        "outputId": "690886ab-b158-4334-9162-1c8bb4d190a8"
      },
      "execution_count": null,
      "outputs": [
        {
          "output_type": "stream",
          "name": "stdout",
          "text": [
            "['A', 'B', 'C', 'D', 'E', 'F', 'G', 'H', 'I', 'J', 'K', 'L', 'M', 'N', 'O', 'P', 'Q', 'R', 'S', 'T', 'U', 'V', 'W', 'X', 'Y', 'Z']\n"
          ]
        }
      ]
    },
    {
      "cell_type": "code",
      "source": [
        "small = []\n",
        "\n",
        "for i in range(97,123):\n",
        "  small.append(chr(i))\n",
        "print(small)"
      ],
      "metadata": {
        "colab": {
          "base_uri": "https://localhost:8080/"
        },
        "id": "YdYG5lPPPw0T",
        "outputId": "22a4b06f-3203-4c0f-c31c-56597b066f38"
      },
      "execution_count": null,
      "outputs": [
        {
          "output_type": "stream",
          "name": "stdout",
          "text": [
            "['a', 'b', 'c', 'd', 'e', 'f', 'g', 'h', 'i', 'j', 'k', 'l', 'm', 'n', 'o', 'p', 'q', 'r', 's', 't', 'u', 'v', 'w', 'x', 'y', 'z']\n"
          ]
        }
      ]
    },
    {
      "cell_type": "code",
      "source": [
        "def greet():\n",
        "    return \"Hello\" + \" \" + \"Happy birthday\"\n",
        "\n",
        "msg = greet() + \" \" + 'Master'\n",
        "\n",
        "print(msg)"
      ],
      "metadata": {
        "colab": {
          "base_uri": "https://localhost:8080/"
        },
        "id": "khcdARKnuP5W",
        "outputId": "b923aba3-927f-4a1b-acab-cfeb3bdb385c"
      },
      "execution_count": null,
      "outputs": [
        {
          "output_type": "stream",
          "name": "stdout",
          "text": [
            "Hello Happy birthday Master\n"
          ]
        }
      ]
    },
    {
      "cell_type": "code",
      "source": [
        "\"Write a program to print the \"\n",
        "\n",
        "for i in range(1,101):\n",
        "  if i%3==0 and i%5==0:\n",
        "    print(\"Fizz and Bizz\")\n",
        "  elif i%3==0:\n",
        "    print(\"Bizz\")\n",
        "  elif i%5==0:\n",
        "    print(\"Fizz\")\n",
        "  else:\n",
        "    print(i)\n"
      ],
      "metadata": {
        "colab": {
          "base_uri": "https://localhost:8080/"
        },
        "id": "EWJWlqQKubjj",
        "outputId": "b4ada6cd-223a-4605-cf4c-6d91b7bfd196"
      },
      "execution_count": null,
      "outputs": [
        {
          "output_type": "stream",
          "name": "stdout",
          "text": [
            "1\n",
            "2\n",
            "Bizz\n",
            "4\n",
            "Fizz\n",
            "Bizz\n",
            "7\n",
            "8\n",
            "Bizz\n",
            "Fizz\n",
            "11\n",
            "Bizz\n",
            "13\n",
            "14\n",
            "Fizz and Bizz\n",
            "16\n",
            "17\n",
            "Bizz\n",
            "19\n",
            "Fizz\n",
            "Bizz\n",
            "22\n",
            "23\n",
            "Bizz\n",
            "Fizz\n",
            "26\n",
            "Bizz\n",
            "28\n",
            "29\n",
            "Fizz and Bizz\n",
            "31\n",
            "32\n",
            "Bizz\n",
            "34\n",
            "Fizz\n",
            "Bizz\n",
            "37\n",
            "38\n",
            "Bizz\n",
            "Fizz\n",
            "41\n",
            "Bizz\n",
            "43\n",
            "44\n",
            "Fizz and Bizz\n",
            "46\n",
            "47\n",
            "Bizz\n",
            "49\n",
            "Fizz\n",
            "Bizz\n",
            "52\n",
            "53\n",
            "Bizz\n",
            "Fizz\n",
            "56\n",
            "Bizz\n",
            "58\n",
            "59\n",
            "Fizz and Bizz\n",
            "61\n",
            "62\n",
            "Bizz\n",
            "64\n",
            "Fizz\n",
            "Bizz\n",
            "67\n",
            "68\n",
            "Bizz\n",
            "Fizz\n",
            "71\n",
            "Bizz\n",
            "73\n",
            "74\n",
            "Fizz and Bizz\n",
            "76\n",
            "77\n",
            "Bizz\n",
            "79\n",
            "Fizz\n",
            "Bizz\n",
            "82\n",
            "83\n",
            "Bizz\n",
            "Fizz\n",
            "86\n",
            "Bizz\n",
            "88\n",
            "89\n",
            "Fizz and Bizz\n",
            "91\n",
            "92\n",
            "Bizz\n",
            "94\n",
            "Fizz\n",
            "Bizz\n",
            "97\n",
            "98\n",
            "Bizz\n",
            "Fizz\n"
          ]
        }
      ]
    },
    {
      "cell_type": "code",
      "source": [
        "for i in range(1,11):\n",
        "    for j in range(1,11):\n",
        "        print(i*j, end=\"\\t\")\n",
        "    print()"
      ],
      "metadata": {
        "colab": {
          "base_uri": "https://localhost:8080/"
        },
        "id": "1N-0Xn1HxkOT",
        "outputId": "fee22990-807f-4d3f-ee2a-785f3968e7f9"
      },
      "execution_count": null,
      "outputs": [
        {
          "output_type": "stream",
          "name": "stdout",
          "text": [
            "1\t2\t3\t4\t5\t6\t7\t8\t9\t10\t\n",
            "2\t4\t6\t8\t10\t12\t14\t16\t18\t20\t\n",
            "3\t6\t9\t12\t15\t18\t21\t24\t27\t30\t\n",
            "4\t8\t12\t16\t20\t24\t28\t32\t36\t40\t\n",
            "5\t10\t15\t20\t25\t30\t35\t40\t45\t50\t\n",
            "6\t12\t18\t24\t30\t36\t42\t48\t54\t60\t\n",
            "7\t14\t21\t28\t35\t42\t49\t56\t63\t70\t\n",
            "8\t16\t24\t32\t40\t48\t56\t64\t72\t80\t\n",
            "9\t18\t27\t36\t45\t54\t63\t72\t81\t90\t\n",
            "10\t20\t30\t40\t50\t60\t70\t80\t90\t100\t\n"
          ]
        }
      ]
    },
    {
      "cell_type": "code",
      "source": [
        "n = int(input(\"Enter a value:\"))\n",
        "result=[]\n",
        "for i in range(1,n+1):\n",
        "    for j in range(2,i):\n",
        "        if i%j==0:\n",
        "            break\n",
        "    else:\n",
        "        print(i,end = \" \")"
      ],
      "metadata": {
        "colab": {
          "base_uri": "https://localhost:8080/"
        },
        "id": "BOZ1_lZY0xT4",
        "outputId": "3011a83f-b1f1-4d1f-ccf7-3af8440d56be"
      },
      "execution_count": null,
      "outputs": [
        {
          "output_type": "stream",
          "name": "stdout",
          "text": [
            "Enter a value:20\n",
            "1 2 3 5 7 11 13 17 19 "
          ]
        }
      ]
    },
    {
      "cell_type": "code",
      "source": [
        "\"\"\"Create a nested loop to print the reverse of the multiplication table from 1 to 5 (up to 10 times each).\n",
        "Expected Input: None\n",
        "Expected Output:\"\"\"\n",
        "\n",
        "for i in range(1,6):\n",
        "    for j in range(1,6)[::-1]:\n",
        "        print(i*j, end=\" \")\n",
        "    print(\"\\n\")"
      ],
      "metadata": {
        "colab": {
          "base_uri": "https://localhost:8080/"
        },
        "id": "ajOVbR0u1MJn",
        "outputId": "36ece3a1-a6cb-4549-c578-ef5d16ebbcaf"
      },
      "execution_count": null,
      "outputs": [
        {
          "output_type": "stream",
          "name": "stdout",
          "text": [
            "5 4 3 2 1 \n",
            "\n",
            "10 8 6 4 2 \n",
            "\n",
            "15 12 9 6 3 \n",
            "\n",
            "20 16 12 8 4 \n",
            "\n",
            "25 20 15 10 5 \n",
            "\n"
          ]
        }
      ]
    },
    {
      "cell_type": "code",
      "source": [
        "### Questions to Practice (Day 1):\n",
        "\n",
        "#1. Print your name.\n",
        "\n",
        "name = input(\"Enter a your name: \")\n",
        "print(\"Your name is:\",name)"
      ],
      "metadata": {
        "colab": {
          "base_uri": "https://localhost:8080/"
        },
        "id": "D6zYQlXO19hW",
        "outputId": "ed63fb58-49ca-48af-b86e-35c0a4cc9fc2"
      },
      "execution_count": null,
      "outputs": [
        {
          "output_type": "stream",
          "name": "stdout",
          "text": [
            "Enter a your name: Laxman\n",
            "Your name is: Laxman\n"
          ]
        }
      ]
    },
    {
      "cell_type": "code",
      "source": [
        "#2. Print the result of adding two numbers.\n",
        "\n",
        "num = int(input(\"Enter a value:\"))\n",
        "num1 = int(input(\"Enter a value:\"))\n",
        "\n",
        "result = 0\n",
        "\n",
        "result = num+num1\n",
        "print(\"The total sum:\", result)"
      ],
      "metadata": {
        "colab": {
          "base_uri": "https://localhost:8080/"
        },
        "id": "u4FC4THA2pBe",
        "outputId": "c8bedd44-cab6-46f5-c27d-af13379d373d"
      },
      "execution_count": null,
      "outputs": [
        {
          "output_type": "stream",
          "name": "stdout",
          "text": [
            "Enter a value:26\n",
            "Enter a value:24\n",
            "The total sum: 50\n"
          ]
        }
      ]
    },
    {
      "cell_type": "code",
      "source": [
        "#3. Print the result of subtracting two numbers.\n",
        "\n",
        "num = int(input(\"Enter a value:\"))\n",
        "num1 = int(input(\"Enter a value:\"))\n",
        "\n",
        "result = 0\n",
        "\n",
        "result = num-num1\n",
        "print(\"The total \", result)"
      ],
      "metadata": {
        "colab": {
          "base_uri": "https://localhost:8080/"
        },
        "id": "72zJyFIr3c0P",
        "outputId": "2e0b19f9-0885-4a2e-f0be-5990a96b65b3"
      },
      "execution_count": null,
      "outputs": [
        {
          "output_type": "stream",
          "name": "stdout",
          "text": [
            "Enter a value:26\n",
            "Enter a value:24\n",
            "The total sum: 2\n"
          ]
        }
      ]
    },
    {
      "cell_type": "code",
      "source": [
        "#4. Print the result of multiplying two numbers.\n",
        "\n",
        "num = int(input(\"Enter a value:\"))\n",
        "num1 = int(input(\"Enter a value:\"))\n",
        "\n",
        "result = 0\n",
        "\n",
        "result = num*num1\n",
        "print(\"The total:\", result)"
      ],
      "metadata": {
        "colab": {
          "base_uri": "https://localhost:8080/"
        },
        "id": "xeCGNBXa3nAm",
        "outputId": "8bd5d998-4829-4ce8-fbd6-f6219d20993c"
      },
      "execution_count": null,
      "outputs": [
        {
          "output_type": "stream",
          "name": "stdout",
          "text": [
            "Enter a value:22\n",
            "Enter a value:2\n",
            "The total: 44\n"
          ]
        }
      ]
    },
    {
      "cell_type": "code",
      "source": [
        "#5. Print the result of dividing two numbers.\n",
        "\n",
        "num = int(input(\"Enter a value:\"))\n",
        "num1 = int(input(\"Enter a value:\"))\n",
        "\n",
        "result = 0\n",
        "\n",
        "result = num / num1\n",
        "print(\"The total:\", result)"
      ],
      "metadata": {
        "id": "MIDB4dKT34Jj",
        "colab": {
          "base_uri": "https://localhost:8080/"
        },
        "outputId": "40a7e176-2a47-4153-e4ad-bbe40bdbd181"
      },
      "execution_count": null,
      "outputs": [
        {
          "output_type": "stream",
          "name": "stdout",
          "text": [
            "Enter a value:5\n",
            "Enter a value:5\n",
            "The total: 1.0\n"
          ]
        }
      ]
    },
    {
      "cell_type": "code",
      "source": [
        "#write a program to print the all even number and odd number with use the list.\n",
        "\n",
        "\n",
        "arr = [i for i in range(1,101) if i %2==0]\n",
        "print(arr)\n",
        "\n",
        "arr1 = [i for i in range(1,101,2)]\n",
        "print(arr1)"
      ],
      "metadata": {
        "colab": {
          "base_uri": "https://localhost:8080/"
        },
        "id": "mzf_maU2JMC_",
        "outputId": "bca67f18-96fe-4ebc-bc3e-a7573aa39979"
      },
      "execution_count": null,
      "outputs": [
        {
          "output_type": "stream",
          "name": "stdout",
          "text": [
            "[2, 4, 6, 8, 10, 12, 14, 16, 18, 20, 22, 24, 26, 28, 30, 32, 34, 36, 38, 40, 42, 44, 46, 48, 50, 52, 54, 56, 58, 60, 62, 64, 66, 68, 70, 72, 74, 76, 78, 80, 82, 84, 86, 88, 90, 92, 94, 96, 98, 100]\n",
            "[1, 3, 5, 7, 9, 11, 13, 15, 17, 19, 21, 23, 25, 27, 29, 31, 33, 35, 37, 39, 41, 43, 45, 47, 49, 51, 53, 55, 57, 59, 61, 63, 65, 67, 69, 71, 73, 75, 77, 79, 81, 83, 85, 87, 89, 91, 93, 95, 97, 99]\n"
          ]
        }
      ]
    },
    {
      "cell_type": "code",
      "source": [
        "#write a program to print the prime numbers\n",
        "\n",
        "num = int(input(\"Enter a value:\"))\n",
        "\n",
        "result = []\n",
        "\n",
        "for i in range(1,num+1):\n",
        "  for j in range(2,i):\n",
        "    if i%j==0:\n",
        "      break\n",
        "  else:\n",
        "    result.append(i)\n",
        "print(result)"
      ],
      "metadata": {
        "colab": {
          "base_uri": "https://localhost:8080/"
        },
        "id": "f_OwFcw6J02O",
        "outputId": "1fa2bf0b-ac41-4d32-97fc-c72282d7ebee"
      },
      "execution_count": null,
      "outputs": [
        {
          "output_type": "stream",
          "name": "stdout",
          "text": [
            "Enter a value:21\n",
            "[1, 2, 3, 5, 7, 11, 13, 17, 19]\n"
          ]
        }
      ]
    },
    {
      "cell_type": "code",
      "source": [
        "\"Write a program to reverse the letters\"\n",
        "\n",
        "name= \"Sky is blue\"\n",
        "\n",
        "result = name.split()\n",
        "new_result = result[::-1]\n",
        "\n",
        "mm = \" \".join(new_result)\n",
        "print(mm)"
      ],
      "metadata": {
        "colab": {
          "base_uri": "https://localhost:8080/"
        },
        "id": "XKc-RQYuVW3b",
        "outputId": "575816ac-fdc6-4f23-cbd4-bbe20da97204"
      },
      "execution_count": null,
      "outputs": [
        {
          "output_type": "stream",
          "name": "stdout",
          "text": [
            "blue is Sky\n"
          ]
        }
      ]
    },
    {
      "cell_type": "code",
      "source": [
        "\"Write a program to find the leap year.\"\n",
        "\n",
        "year = int(input(\"Enter a year:\"))\n",
        "\n",
        "if year%4==0:\n",
        "  print(\"It is leap year\")\n",
        "elif year%100==0:\n",
        "  print(\"It is leap year\")\n",
        "elif year%400==0:\n",
        "  print(\"It is leap year\")\n",
        "else:\n",
        "  print(\"It is not a leap year!\")"
      ],
      "metadata": {
        "colab": {
          "base_uri": "https://localhost:8080/"
        },
        "id": "58ZgkdkVVxXl",
        "outputId": "4bc10bcc-4c98-4362-86b7-bbeb10990019"
      },
      "execution_count": null,
      "outputs": [
        {
          "output_type": "stream",
          "name": "stdout",
          "text": [
            "Enter a year:1999\n",
            "It is not a leap year!\n"
          ]
        }
      ]
    },
    {
      "cell_type": "code",
      "source": [
        "'''4. Define a variable `is_raining` and ask the user to input either \"True\" or \"False\" (as a string). Convert the input to a boolean and print its type.\n",
        "    - **Expected Input:** \"True\" or \"False\"\n",
        "    - **Expected Output:** The data type of the converted boolean.\n",
        "'''\n",
        "Today_weather = input(\"Enter a weather Y|N  \")\n",
        "\n",
        "if Today_weather == 'Y':\n",
        "  print(bool(\"True\"),\"It is to hot\")\n",
        "else:\n",
        "  print(bool(\"False\"),\"It is a rain\")\n"
      ],
      "metadata": {
        "colab": {
          "base_uri": "https://localhost:8080/"
        },
        "id": "LxOXBybLZR-v",
        "outputId": "c99c4d6d-c7e3-4b32-88d5-16986f4cd6a8"
      },
      "execution_count": null,
      "outputs": [
        {
          "output_type": "stream",
          "name": "stdout",
          "text": [
            "Enter a weather Y|N  N\n",
            "True It is a rain\n"
          ]
        }
      ]
    },
    {
      "cell_type": "code",
      "source": [
        "String = \"Good Morning Friends\"\n",
        "s = (\"* \" *  3) + String + (\" *\" * 3)\n",
        "print(s)"
      ],
      "metadata": {
        "colab": {
          "base_uri": "https://localhost:8080/"
        },
        "id": "LxufC8RMbKsV",
        "outputId": "56e04dd2-4227-4f68-b1aa-4bcde3f5a0d4"
      },
      "execution_count": null,
      "outputs": [
        {
          "output_type": "stream",
          "name": "stdout",
          "text": [
            "* * * Good Morning Friends * * *\n"
          ]
        }
      ]
    },
    {
      "cell_type": "code",
      "source": [
        "\"\"\"3. Create a string `word` and repeat it 5 times. Print the result.\n",
        "    - **Expected Input:** word = \"Python\"\n",
        "    - **Expected Output:** \"PythonPythonPythonPythonPython\"\"\"\n",
        "\n",
        "print(\"Python-\" * 5)"
      ],
      "metadata": {
        "colab": {
          "base_uri": "https://localhost:8080/"
        },
        "id": "_NFuWG_BdALH",
        "outputId": "c1db995d-a7bb-466b-85f7-c3207634160b"
      },
      "execution_count": null,
      "outputs": [
        {
          "output_type": "stream",
          "name": "stdout",
          "text": [
            "Python-Python-Python-Python-Python-\n"
          ]
        }
      ]
    },
    {
      "cell_type": "markdown",
      "source": [
        "4. Ask the user to enter a word and a number. Repeat the word as many times as the given number and print the result.\n",
        "    - **Expected Input:** word = \"Hello\", number = 3\n",
        "    - **Expected Output:** \"HelloHelloHello\""
      ],
      "metadata": {
        "id": "iEX8fhftem8L"
      }
    },
    {
      "cell_type": "code",
      "source": [
        "word = input(\"Enter a name\")\n",
        "\n",
        "print(word * 3)"
      ],
      "metadata": {
        "colab": {
          "base_uri": "https://localhost:8080/"
        },
        "id": "mdEsTTsQevWO",
        "outputId": "411dd503-a48f-42b2-9496-9eb368377f73"
      },
      "execution_count": null,
      "outputs": [
        {
          "output_type": "stream",
          "name": "stdout",
          "text": [
            "Enter a nameHello\n",
            "HelloHelloHello\n"
          ]
        }
      ]
    },
    {
      "cell_type": "markdown",
      "source": [
        "5. Create a string `sentence` and find its length. Print the length of the sentence.\n",
        "    - **Expected Input:** sentence = \"This is a sample sentence.\"\n",
        "    - **Expected Output:** 27"
      ],
      "metadata": {
        "id": "jkhSzjndfSis"
      }
    },
    {
      "cell_type": "code",
      "source": [
        "sentence = \"This is a sample  sentence.\"\n",
        "\n",
        "print(len(sentence))"
      ],
      "metadata": {
        "colab": {
          "base_uri": "https://localhost:8080/"
        },
        "id": "mQ9K4jr0fUGn",
        "outputId": "27b31be6-0602-4229-8247-a0217de1ab73"
      },
      "execution_count": null,
      "outputs": [
        {
          "output_type": "stream",
          "name": "stdout",
          "text": [
            "27\n"
          ]
        }
      ]
    },
    {
      "cell_type": "markdown",
      "source": [
        "Create a string pattern containing \"*\" character and repeat it to form a pattern. The pattern should have 5 rows. Print the resulting pattern."
      ],
      "metadata": {
        "id": "7G_yRA5IgAb4"
      }
    },
    {
      "cell_type": "code",
      "source": [
        "print(\"*\")\n",
        "print(\"*\"*2)\n",
        "print(\"*\"*3)\n",
        "print(\"*\"*4)\n",
        "print(\"*\"*5)"
      ],
      "metadata": {
        "colab": {
          "base_uri": "https://localhost:8080/"
        },
        "id": "fL-yvj9qgBcJ",
        "outputId": "e1c5551f-42f5-4c7c-fbeb-7e42cb19cfbe"
      },
      "execution_count": null,
      "outputs": [
        {
          "output_type": "stream",
          "name": "stdout",
          "text": [
            "*\n",
            "**\n",
            "***\n",
            "****\n",
            "*****\n"
          ]
        }
      ]
    },
    {
      "cell_type": "code",
      "source": [
        "string = \"Hello, World\"\n",
        "\n",
        "new_string = string[0]\n",
        "new_string1 = string[1]\n",
        "new_string2 = string[2]\n",
        "print(new_string,new_string1,new_string2)"
      ],
      "metadata": {
        "colab": {
          "base_uri": "https://localhost:8080/"
        },
        "id": "A9Z7LDJWguDk",
        "outputId": "83743bf8-261d-4154-ce9b-30f90debe967"
      },
      "execution_count": null,
      "outputs": [
        {
          "output_type": "stream",
          "name": "stdout",
          "text": [
            "H e l\n"
          ]
        }
      ]
    },
    {
      "cell_type": "code",
      "source": [
        "n = int(input(\"Enter a value:\"))\n",
        "\n",
        "sum = 0\n",
        "mul=1\n",
        "\n",
        "for i in range(1,n+1):\n",
        "    sum+=i\n",
        "    mul*=i\n",
        "print(\"The Result:\",sum)\n",
        "print(\"The Result:\",mul)"
      ],
      "metadata": {
        "colab": {
          "base_uri": "https://localhost:8080/"
        },
        "id": "8WyqQdCcM1EE",
        "outputId": "fa25dd89-c4b4-4ac0-f11f-0ed66e6068fb"
      },
      "execution_count": null,
      "outputs": [
        {
          "output_type": "stream",
          "name": "stdout",
          "text": [
            "Enter a value:10\n",
            "The Result: 55\n",
            "The Result: 3628800\n"
          ]
        }
      ]
    },
    {
      "cell_type": "code",
      "source": [
        "arr = [i**2 for i in range(1,101)]\n",
        "\n",
        "print(arr)"
      ],
      "metadata": {
        "id": "O6oDoF9vX9Ko",
        "colab": {
          "base_uri": "https://localhost:8080/"
        },
        "outputId": "bb93e116-1572-4827-f784-16ef9e96893b"
      },
      "execution_count": 2,
      "outputs": [
        {
          "output_type": "stream",
          "name": "stdout",
          "text": [
            "[1, 4, 9, 16, 25, 36, 49, 64, 81, 100, 121, 144, 169, 196, 225, 256, 289, 324, 361, 400, 441, 484, 529, 576, 625, 676, 729, 784, 841, 900, 961, 1024, 1089, 1156, 1225, 1296, 1369, 1444, 1521, 1600, 1681, 1764, 1849, 1936, 2025, 2116, 2209, 2304, 2401, 2500, 2601, 2704, 2809, 2916, 3025, 3136, 3249, 3364, 3481, 3600, 3721, 3844, 3969, 4096, 4225, 4356, 4489, 4624, 4761, 4900, 5041, 5184, 5329, 5476, 5625, 5776, 5929, 6084, 6241, 6400, 6561, 6724, 6889, 7056, 7225, 7396, 7569, 7744, 7921, 8100, 8281, 8464, 8649, 8836, 9025, 9216, 9409, 9604, 9801, 10000]\n"
          ]
        }
      ]
    }
  ],
  "metadata": {
    "colab": {
      "provenance": [],
      "include_colab_link": true
    },
    "kernelspec": {
      "display_name": "Python 3",
      "name": "python3"
    }
  },
  "nbformat": 4,
  "nbformat_minor": 0
}
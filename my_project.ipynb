{
  "cells": [
    {
      "cell_type": "markdown",
      "metadata": {
        "id": "view-in-github",
        "colab_type": "text"
      },
      "source": [
        "<a href=\"https://colab.research.google.com/github/klaxman23/GMAIL/blob/main/my_project.ipynb\" target=\"_parent\"><img src=\"https://colab.research.google.com/assets/colab-badge.svg\" alt=\"Open In Colab\"/></a>"
      ]
    },
    {
      "cell_type": "code",
      "execution_count": null,
      "metadata": {
        "id": "lIYdn1woOS1n",
        "colab": {
          "base_uri": "https://localhost:8080/"
        },
        "outputId": "eaeecf6a-0cd7-4055-d692-52d7f1e328c2"
      },
      "outputs": [
        {
          "output_type": "stream",
          "name": "stdout",
          "text": [
            "Enter a value:10\n",
            "55\n"
          ]
        }
      ],
      "source": [
        "''' write a program to print sum of n numbers'''\n",
        "num = int(input(\"Enter a value:\"))\n",
        "\n",
        "sum=0\n",
        "\n",
        "for i in range(1,num+1):\n",
        "  sum=sum+i\n",
        "print(sum)"
      ]
    },
    {
      "cell_type": "code",
      "source": [
        "''' write a program to print odd and even numbers'''\n",
        "num=[]\n",
        "for i in range(1,101):\n",
        "  if i%2==0:\n",
        "    num.append(i)\n",
        "print(num)\n"
      ],
      "metadata": {
        "colab": {
          "base_uri": "https://localhost:8080/"
        },
        "id": "i4diPXTSz3JA",
        "outputId": "585bb398-442d-4608-86e5-bc18e6f85976"
      },
      "execution_count": null,
      "outputs": [
        {
          "output_type": "stream",
          "name": "stdout",
          "text": [
            "[2, 4, 6, 8, 10, 12, 14, 16, 18, 20, 22, 24, 26, 28, 30, 32, 34, 36, 38, 40, 42, 44, 46, 48, 50, 52, 54, 56, 58, 60, 62, 64, 66, 68, 70, 72, 74, 76, 78, 80, 82, 84, 86, 88, 90, 92, 94, 96, 98, 100]\n"
          ]
        }
      ]
    },
    {
      "cell_type": "code",
      "source": [
        "''' write a program to print odd and even numbers'''\n",
        "num=[]\n",
        "for i in range(1,101):\n",
        "  if i%2==1:\n",
        "    num.append(i)\n",
        "print(num)"
      ],
      "metadata": {
        "colab": {
          "base_uri": "https://localhost:8080/"
        },
        "id": "X-4tkY2u1rMH",
        "outputId": "d00e8353-18d9-4bac-fd75-16be4930918a"
      },
      "execution_count": null,
      "outputs": [
        {
          "output_type": "stream",
          "name": "stdout",
          "text": [
            "[1, 3, 5, 7, 9, 11, 13, 15, 17, 19, 21, 23, 25, 27, 29, 31, 33, 35, 37, 39, 41, 43, 45, 47, 49, 51, 53, 55, 57, 59, 61, 63, 65, 67, 69, 71, 73, 75, 77, 79, 81, 83, 85, 87, 89, 91, 93, 95, 97, 99]\n"
          ]
        }
      ]
    },
    {
      "cell_type": "code",
      "source": [
        "''' write a program to print odd and even numbers'''\n",
        "num = [ i for i in range(1,101) if i%2==1]\n",
        "print(num)\n",
        "num = [ i for i in range(1,101) if i%2==0]\n",
        "print(num)"
      ],
      "metadata": {
        "colab": {
          "base_uri": "https://localhost:8080/"
        },
        "id": "sZFAsjHN1yw5",
        "outputId": "8e8549ae-9d17-4f2b-af17-96865b477d21"
      },
      "execution_count": null,
      "outputs": [
        {
          "output_type": "stream",
          "name": "stdout",
          "text": [
            "[1, 3, 5, 7, 9, 11, 13, 15, 17, 19, 21, 23, 25, 27, 29, 31, 33, 35, 37, 39, 41, 43, 45, 47, 49, 51, 53, 55, 57, 59, 61, 63, 65, 67, 69, 71, 73, 75, 77, 79, 81, 83, 85, 87, 89, 91, 93, 95, 97, 99]\n",
            "[2, 4, 6, 8, 10, 12, 14, 16, 18, 20, 22, 24, 26, 28, 30, 32, 34, 36, 38, 40, 42, 44, 46, 48, 50, 52, 54, 56, 58, 60, 62, 64, 66, 68, 70, 72, 74, 76, 78, 80, 82, 84, 86, 88, 90, 92, 94, 96, 98, 100]\n"
          ]
        }
      ]
    },
    {
      "cell_type": "code",
      "source": [
        "''' write a program to print '''\n",
        "\n",
        "num = int(input(\"Enter a value:\"))\n",
        "\n",
        "mul = 1\n",
        "\n",
        "for i in range(1,num+1):\n",
        "  mul = mul*i\n",
        "print(\"The total value:\",mul)"
      ],
      "metadata": {
        "colab": {
          "base_uri": "https://localhost:8080/"
        },
        "id": "WQqUF-4D2-Nh",
        "outputId": "2f20fcc0-fcf2-4dc7-f99e-91f9470e1f2d"
      },
      "execution_count": null,
      "outputs": [
        {
          "output_type": "stream",
          "name": "stdout",
          "text": [
            "Enter a value:5\n",
            "The total value: 120\n"
          ]
        }
      ]
    },
    {
      "cell_type": "code",
      "source": [
        "'''write a program to print combined all the letters'''\n",
        "a='Mohan'\n",
        "b='loves'\n",
        "c='python'\n",
        "\n",
        "print(a+\" \"+b+\" \"+c)"
      ],
      "metadata": {
        "colab": {
          "base_uri": "https://localhost:8080/"
        },
        "id": "Hg6U4NK451u5",
        "outputId": "4770de76-6902-4dba-f53b-2a5dad5fc831"
      },
      "execution_count": null,
      "outputs": [
        {
          "output_type": "stream",
          "name": "stdout",
          "text": [
            "Mohan loves python\n"
          ]
        }
      ]
    },
    {
      "cell_type": "code",
      "source": [
        "'''write a program take a input for the user and print the name & find the length of the character.'''\n",
        "\n",
        "name=input(\"Enter a user name:\")\n",
        "print(\"The enter name is:\" +name)\n",
        "print(len(name))\n"
      ],
      "metadata": {
        "colab": {
          "base_uri": "https://localhost:8080/"
        },
        "id": "FT3Dco8b6wHb",
        "outputId": "f69b7337-a492-464d-da05-d73fe55739b0"
      },
      "execution_count": null,
      "outputs": [
        {
          "output_type": "stream",
          "name": "stdout",
          "text": [
            "Enter a user name:suma\n",
            "The enter name is:suma\n",
            "4\n"
          ]
        }
      ]
    },
    {
      "cell_type": "code",
      "source": [
        "\"Write a program to print student details.\"\n",
        "\n",
        "First_name = input(\"Enter a first_nam:\")\n",
        "Second_name = input(\"Enter a second_name:\")\n",
        "Roll_number = input(\"Enter a roll number:\")\n",
        "\n",
        "print (\"Student_name:\", First_name +\" \"+ Second_name)\n",
        "print (\"Student Roll number:\", Roll_number)"
      ],
      "metadata": {
        "colab": {
          "base_uri": "https://localhost:8080/"
        },
        "id": "cX5War9GUbGy",
        "outputId": "c610658c-8bf4-48ab-86c9-3c83ad7fa345"
      },
      "execution_count": null,
      "outputs": [
        {
          "output_type": "stream",
          "name": "stdout",
          "text": [
            "Enter a first_nam:RAM\n",
            "Enter a second_name:KUMAR\n",
            "Enter a roll number:08A11A0544\n",
            "Student_name: RAM KUMAR\n",
            "Student Roll number: 08A11A0544\n"
          ]
        }
      ]
    },
    {
      "cell_type": "code",
      "source": [
        "\"Create a list enter 1 t- 10 number and show the odd and even numbers.\"\n",
        "\n",
        "new_list = [1,2,3,4,5,6,7,8,9,10]\n",
        "odd_list=[]\n",
        "even_list=[]\n",
        "for i in new_list:\n",
        "  if i%2==1:\n",
        "    odd_list.append(i)\n",
        "  else:\n",
        "    even_list.append(i)\n",
        "print(\"Odd numbers\",odd_list)\n",
        "print(\"Even numbers\",even_list)"
      ],
      "metadata": {
        "colab": {
          "base_uri": "https://localhost:8080/"
        },
        "id": "87g-yjVMY7Yi",
        "outputId": "a7949c5a-df52-49de-b1f6-7d588d022a55"
      },
      "execution_count": null,
      "outputs": [
        {
          "output_type": "stream",
          "name": "stdout",
          "text": [
            "Odd numbers [1, 3, 5, 7, 9]\n",
            "Even numbers [2, 4, 6, 8, 10]\n"
          ]
        }
      ]
    },
    {
      "cell_type": "code",
      "source": [
        "\"Write a program to remove the dublicate values on the list.\"\n",
        "arr = [2,2,3,3,4,4,5,5,6,6,7,7,8,8,9,9]\n",
        "\n",
        "num=[]\n",
        "\n",
        "for i in arr:\n",
        "  if (i not in num):\n",
        "    num.append(i)\n",
        "print(num)"
      ],
      "metadata": {
        "colab": {
          "base_uri": "https://localhost:8080/"
        },
        "id": "FJRt9L3djShS",
        "outputId": "44b15ba1-ea59-495e-a7a9-44ba5d7ecf65"
      },
      "execution_count": null,
      "outputs": [
        {
          "output_type": "stream",
          "name": "stdout",
          "text": [
            "[2, 3, 4, 5, 6, 7, 8, 9]\n"
          ]
        }
      ]
    },
    {
      "cell_type": "code",
      "source": [
        "\"Write a program to print the table.\"\n",
        "\n",
        "num = int(input(\"Enter a value:\"))\n",
        "\n",
        "for i in range(1,21):\n",
        "  print(num, '*', i, \"=\", num*i)"
      ],
      "metadata": {
        "colab": {
          "base_uri": "https://localhost:8080/"
        },
        "id": "cLQ44JAMo-B7",
        "outputId": "45ba2a67-f414-4159-96a9-c5daac0629b7"
      },
      "execution_count": null,
      "outputs": [
        {
          "output_type": "stream",
          "name": "stdout",
          "text": [
            "Enter a value:2\n",
            "2 * 1 = 2\n",
            "2 * 2 = 4\n",
            "2 * 3 = 6\n",
            "2 * 4 = 8\n",
            "2 * 5 = 10\n",
            "2 * 6 = 12\n",
            "2 * 7 = 14\n",
            "2 * 8 = 16\n",
            "2 * 9 = 18\n",
            "2 * 10 = 20\n",
            "2 * 11 = 22\n",
            "2 * 12 = 24\n",
            "2 * 13 = 26\n",
            "2 * 14 = 28\n",
            "2 * 15 = 30\n",
            "2 * 16 = 32\n",
            "2 * 17 = 34\n",
            "2 * 18 = 36\n",
            "2 * 19 = 38\n",
            "2 * 20 = 40\n"
          ]
        }
      ]
    },
    {
      "cell_type": "code",
      "source": [
        "\"Write a program  string is palindrome or not.\"\n",
        "\n",
        "name = input(\"Enter a value:\")\n",
        "\n",
        "rev_name = name[::-1]\n",
        "\n",
        "print(rev_name)\n",
        "\n",
        "if rev_name==name:\n",
        "  print(\"it is a palindrome.\")\n",
        "else:\n",
        "  print(\"it is not a plaindrome\")"
      ],
      "metadata": {
        "colab": {
          "base_uri": "https://localhost:8080/"
        },
        "id": "krXDPKDqqDP7",
        "outputId": "8a4a25fe-0dc5-4dd5-ecdd-79f4b086fa67"
      },
      "execution_count": null,
      "outputs": [
        {
          "output_type": "stream",
          "name": "stdout",
          "text": [
            "Enter a value:010\n",
            "010\n",
            "it is a palindrome.\n"
          ]
        }
      ]
    },
    {
      "cell_type": "code",
      "source": [
        "\"Write a program to swap to number\"\n",
        "a,b=10,20\n",
        "\n",
        "a = a+b\n",
        "b = a-b\n",
        "a = a-b\n",
        "\n",
        "print(a)\n",
        "print(b)"
      ],
      "metadata": {
        "colab": {
          "base_uri": "https://localhost:8080/"
        },
        "id": "Ji6r-T4Criu7",
        "outputId": "bd7d7dd9-171d-427f-c1c0-879946c78880"
      },
      "execution_count": null,
      "outputs": [
        {
          "output_type": "stream",
          "name": "stdout",
          "text": [
            "20\n",
            "10\n"
          ]
        }
      ]
    },
    {
      "cell_type": "code",
      "source": [
        "\"Write a program multiple list of string print in the single list.\"\n",
        "\n",
        "ip = [1,2,3,[4,5,[6,7,[8,[9,10,[11,[12,[13,]]]]]]]]\n",
        "\n",
        "result = []\n",
        "\n",
        "def rnf(item):\n",
        "  for i in item:\n",
        "    if type(i) is list:\n",
        "      rnf(i)\n",
        "    else:\n",
        "      result.append(i)\n",
        "rnf(ip)\n",
        "\n",
        "print('ip=', result)"
      ],
      "metadata": {
        "colab": {
          "base_uri": "https://localhost:8080/"
        },
        "id": "sxJ8PBYeyHFT",
        "outputId": "eff267c1-3efb-45c3-939d-49162d56878d"
      },
      "execution_count": null,
      "outputs": [
        {
          "output_type": "stream",
          "name": "stdout",
          "text": [
            "ip= [1, 2, 3, 4, 5, 6, 7, 8, 9, 10, 11, 12, 13]\n"
          ]
        }
      ]
    },
    {
      "cell_type": "code",
      "source": [
        "\"Write a program to covert float value to integer value.\"\n",
        "\n",
        "n = 1234.6\n",
        "nn=int(n)\n",
        "print(nn)"
      ],
      "metadata": {
        "colab": {
          "base_uri": "https://localhost:8080/"
        },
        "id": "VdSR0o5-33uI",
        "outputId": "bb7c2ded-d8b0-4a82-80f1-4ef07ccaa024"
      },
      "execution_count": null,
      "outputs": [
        {
          "output_type": "stream",
          "name": "stdout",
          "text": [
            "1234\n"
          ]
        }
      ]
    },
    {
      "cell_type": "code",
      "source": [
        "\"Write a program to use function.\"\n",
        "\n",
        "def function():\n",
        "  print(\"Hello\")\n",
        "  print(\"kavya\")\n",
        "  print(\"Bye\")\n",
        "\n",
        "\n",
        "function()"
      ],
      "metadata": {
        "colab": {
          "base_uri": "https://localhost:8080/"
        },
        "id": "95omV4df5aK-",
        "outputId": "51e84e68-cac7-4553-8d55-62465f933a4b"
      },
      "execution_count": null,
      "outputs": [
        {
          "output_type": "stream",
          "name": "stdout",
          "text": [
            "Hello\n",
            "kavya\n",
            "Bye\n"
          ]
        }
      ]
    },
    {
      "cell_type": "code",
      "source": [
        "\"Write  a program to pick the details in the list.\"\n",
        "\n",
        "num = [12,10,9,44,88]\n",
        "print(min(num),max(num))\n",
        "\n",
        "num.sort()\n",
        "print(num[0])\n",
        "print(num[-1])"
      ],
      "metadata": {
        "colab": {
          "base_uri": "https://localhost:8080/"
        },
        "id": "-ZpjIrzz53ss",
        "outputId": "bfbbe29a-0359-4d60-8499-6702095e5f24"
      },
      "execution_count": null,
      "outputs": [
        {
          "output_type": "stream",
          "name": "stdout",
          "text": [
            "9 88\n",
            "9\n",
            "88\n"
          ]
        }
      ]
    },
    {
      "cell_type": "code",
      "source": [
        "\"Write a program to print add 3 numbers\"\n",
        "\n",
        "a=25\n",
        "b=35\n",
        "\n",
        "print(a+b)"
      ],
      "metadata": {
        "colab": {
          "base_uri": "https://localhost:8080/"
        },
        "id": "kOWHRjxMMiYU",
        "outputId": "86bf14f7-7f45-479c-8e04-fad09f60b98c"
      },
      "execution_count": null,
      "outputs": [
        {
          "output_type": "stream",
          "name": "stdout",
          "text": [
            "60\n"
          ]
        }
      ]
    },
    {
      "cell_type": "code",
      "source": [
        "value = 42\n",
        "new_value = int(input())\n",
        "value = new_value\n",
        "\n",
        "print(\"updated value :\" , value)"
      ],
      "metadata": {
        "colab": {
          "base_uri": "https://localhost:8080/"
        },
        "id": "4VldM64cNTRt",
        "outputId": "6d5d8688-06e2-49fa-a657-dc3b20dcfe72"
      },
      "execution_count": null,
      "outputs": [
        {
          "output_type": "stream",
          "name": "stdout",
          "text": [
            "45\n",
            "updated value : 45\n"
          ]
        }
      ]
    },
    {
      "cell_type": "code",
      "source": [
        "\"Write a program to use while loop\"\n",
        "\n",
        "num=10\n",
        "while num>=0:\n",
        "  num = num-1\n",
        "  print(num)"
      ],
      "metadata": {
        "colab": {
          "base_uri": "https://localhost:8080/"
        },
        "id": "9oa2XN8qDc5y",
        "outputId": "8702438f-87b7-41c7-8882-90a328f4383b"
      },
      "execution_count": null,
      "outputs": [
        {
          "output_type": "stream",
          "name": "stdout",
          "text": [
            "9\n",
            "8\n",
            "7\n",
            "6\n",
            "5\n",
            "4\n",
            "3\n",
            "2\n",
            "1\n",
            "0\n",
            "-1\n"
          ]
        }
      ]
    },
    {
      "cell_type": "code",
      "source": [
        "\"Write a program to print list.\"\n",
        "\n",
        "fruits = ['Apple','Orange','Grapes','Guava','Mango']\n",
        "price = [120,155,250,210,220]\n",
        "\n",
        "'''print(fruits,price)'''\n",
        "\n",
        "new_price = {'fruits','price'}\n",
        "\n",
        "print(new_price)"
      ],
      "metadata": {
        "colab": {
          "base_uri": "https://localhost:8080/"
        },
        "id": "K6WOQfVPIvc_",
        "outputId": "e3058a36-1e4c-4f64-afd3-85334131bdc8"
      },
      "execution_count": null,
      "outputs": [
        {
          "output_type": "stream",
          "name": "stdout",
          "text": [
            "{'price', 'fruits'}\n"
          ]
        }
      ]
    },
    {
      "cell_type": "code",
      "source": [
        "\"Write a program to convert lower case to upper case.\"\n",
        "\n",
        "my_string = 'i am a student'\n",
        "\n",
        "new = my_string.upper()\n",
        "print(new)\n",
        "\n"
      ],
      "metadata": {
        "colab": {
          "base_uri": "https://localhost:8080/"
        },
        "id": "3Z7skfAPSlUY",
        "outputId": "f31c217e-273f-49ce-8a6b-95a878c57446"
      },
      "execution_count": null,
      "outputs": [
        {
          "output_type": "stream",
          "name": "stdout",
          "text": [
            "I AM A STUDENT\n"
          ]
        }
      ]
    },
    {
      "cell_type": "code",
      "source": [
        "\"Write a program to reverse the list\"\n",
        "\n",
        "my_list = [1,2,3,4,5,6]\n",
        "mm = my_list.reverse()\n",
        "print(my_list)\n"
      ],
      "metadata": {
        "colab": {
          "base_uri": "https://localhost:8080/"
        },
        "id": "M538uhzxVwbp",
        "outputId": "a35fa1c0-e1d7-4e2e-edd4-8786dc41ef1b"
      },
      "execution_count": null,
      "outputs": [
        {
          "output_type": "stream",
          "name": "stdout",
          "text": [
            "[6, 5, 4, 3, 2, 1]\n"
          ]
        }
      ]
    },
    {
      "cell_type": "code",
      "source": [
        "\"Write a program to remove the some elements in list\"\n",
        "\n",
        "my_kk = [1,2,3,4,5,6,7,8]\n",
        "\n",
        "my_kk.remove(7)\n",
        "\n",
        "print(my_kk)"
      ],
      "metadata": {
        "colab": {
          "base_uri": "https://localhost:8080/"
        },
        "id": "HfVMUVXFW6vd",
        "outputId": "916d437c-d36a-4a90-f553-76693a9f3bff"
      },
      "execution_count": null,
      "outputs": [
        {
          "output_type": "stream",
          "name": "stdout",
          "text": [
            "[1, 2, 3, 4, 5, 6, 8]\n"
          ]
        }
      ]
    },
    {
      "cell_type": "code",
      "source": [
        "\"Write a program to print calender\"\n",
        "\n",
        "import calendar\n",
        "\n",
        "x = calendar.TextCalendar()\n",
        "print(x.pryear(2023))"
      ],
      "metadata": {
        "colab": {
          "base_uri": "https://localhost:8080/"
        },
        "id": "DL6hVzLcXsGY",
        "outputId": "e3576623-bfe8-4053-ae72-4f46f3a1e21f"
      },
      "execution_count": null,
      "outputs": [
        {
          "output_type": "stream",
          "name": "stdout",
          "text": [
            "                                  2023\n",
            "\n",
            "      January                   February                   March\n",
            "Mo Tu We Th Fr Sa Su      Mo Tu We Th Fr Sa Su      Mo Tu We Th Fr Sa Su\n",
            "                   1             1  2  3  4  5             1  2  3  4  5\n",
            " 2  3  4  5  6  7  8       6  7  8  9 10 11 12       6  7  8  9 10 11 12\n",
            " 9 10 11 12 13 14 15      13 14 15 16 17 18 19      13 14 15 16 17 18 19\n",
            "16 17 18 19 20 21 22      20 21 22 23 24 25 26      20 21 22 23 24 25 26\n",
            "23 24 25 26 27 28 29      27 28                     27 28 29 30 31\n",
            "30 31\n",
            "\n",
            "       April                      May                       June\n",
            "Mo Tu We Th Fr Sa Su      Mo Tu We Th Fr Sa Su      Mo Tu We Th Fr Sa Su\n",
            "                1  2       1  2  3  4  5  6  7                1  2  3  4\n",
            " 3  4  5  6  7  8  9       8  9 10 11 12 13 14       5  6  7  8  9 10 11\n",
            "10 11 12 13 14 15 16      15 16 17 18 19 20 21      12 13 14 15 16 17 18\n",
            "17 18 19 20 21 22 23      22 23 24 25 26 27 28      19 20 21 22 23 24 25\n",
            "24 25 26 27 28 29 30      29 30 31                  26 27 28 29 30\n",
            "\n",
            "        July                     August                  September\n",
            "Mo Tu We Th Fr Sa Su      Mo Tu We Th Fr Sa Su      Mo Tu We Th Fr Sa Su\n",
            "                1  2          1  2  3  4  5  6                   1  2  3\n",
            " 3  4  5  6  7  8  9       7  8  9 10 11 12 13       4  5  6  7  8  9 10\n",
            "10 11 12 13 14 15 16      14 15 16 17 18 19 20      11 12 13 14 15 16 17\n",
            "17 18 19 20 21 22 23      21 22 23 24 25 26 27      18 19 20 21 22 23 24\n",
            "24 25 26 27 28 29 30      28 29 30 31               25 26 27 28 29 30\n",
            "31\n",
            "\n",
            "      October                   November                  December\n",
            "Mo Tu We Th Fr Sa Su      Mo Tu We Th Fr Sa Su      Mo Tu We Th Fr Sa Su\n",
            "                   1             1  2  3  4  5                   1  2  3\n",
            " 2  3  4  5  6  7  8       6  7  8  9 10 11 12       4  5  6  7  8  9 10\n",
            " 9 10 11 12 13 14 15      13 14 15 16 17 18 19      11 12 13 14 15 16 17\n",
            "16 17 18 19 20 21 22      20 21 22 23 24 25 26      18 19 20 21 22 23 24\n",
            "23 24 25 26 27 28 29      27 28 29 30               25 26 27 28 29 30 31\n",
            "30 31\n",
            "None\n"
          ]
        }
      ]
    },
    {
      "cell_type": "code",
      "source": [
        "\"Write a program to covert kilometer to miles\"\n",
        "\n",
        "kilometer = float(input(\"Enter a value:\"))\n",
        "\n",
        "miles = kilometer * 0.621371\n",
        "\n",
        "print(\"Total miles:\",miles)"
      ],
      "metadata": {
        "colab": {
          "base_uri": "https://localhost:8080/"
        },
        "id": "SJoA2FEuY3uO",
        "outputId": "6746e3e2-1b29-43a8-e97e-b4856fc6a031"
      },
      "execution_count": null,
      "outputs": [
        {
          "output_type": "stream",
          "name": "stdout",
          "text": [
            "Enter a value:5\n",
            "Total miles: 3.106855\n"
          ]
        }
      ]
    },
    {
      "cell_type": "code",
      "source": [
        "\"write a program to count upper.\"\n",
        "\n",
        "string = input(\"Enter a value:\")\n",
        "\n",
        "count1 = 0\n",
        "count2 = 0\n",
        "for i in string:\n",
        "  if (i.islower()):\n",
        "    count1 +=1\n",
        "  elif (i.isupper()):\n",
        "    count2 +=1\n",
        "print(\"The total lower case letter:\",+count1)\n",
        "print(\"The total lower case letter:\",+count2)"
      ],
      "metadata": {
        "id": "pWKGbxUqcbOD",
        "colab": {
          "base_uri": "https://localhost:8080/"
        },
        "outputId": "1aba89b7-082c-48f1-b55b-91b626e29324"
      },
      "execution_count": null,
      "outputs": [
        {
          "output_type": "stream",
          "name": "stdout",
          "text": [
            "Enter a value:uuuUUU\n",
            "The total lower case letter: 3\n",
            "The total lower case letter: 3\n"
          ]
        }
      ]
    },
    {
      "cell_type": "code",
      "source": [
        "\n",
        "\"Write a program to convert celcius to fahrenheit\"\n",
        "\n",
        "celcius = float(input(\"Enter a value:\"))\n",
        "fahrenheit = (celcius*(9/5)+32)\n",
        "print(fahrenheit)\n"
      ],
      "metadata": {
        "colab": {
          "base_uri": "https://localhost:8080/"
        },
        "id": "Y8UG11ZfbygO",
        "outputId": "c29beafb-30ef-447f-f474-f2ce5dc38c72"
      },
      "execution_count": null,
      "outputs": [
        {
          "output_type": "stream",
          "name": "stdout",
          "text": [
            "Enter a value:32\n",
            "89.6\n"
          ]
        }
      ]
    },
    {
      "cell_type": "code",
      "source": [
        "\"Write a program to use while loop to print 1 to 10\"\n",
        "\n",
        "n = 0\n",
        "num1=[]\n",
        "while n<=9:\n",
        "  n = n+1\n",
        "  num1.append(n)\n",
        "\n",
        "print(num1)"
      ],
      "metadata": {
        "colab": {
          "base_uri": "https://localhost:8080/"
        },
        "id": "fQXBCKaJANQs",
        "outputId": "ebeae2b9-66a4-4974-811f-f6849a591690"
      },
      "execution_count": null,
      "outputs": [
        {
          "output_type": "stream",
          "name": "stdout",
          "text": [
            "[1, 2, 3, 4, 5, 6, 7, 8, 9, 10]\n"
          ]
        }
      ]
    },
    {
      "cell_type": "code",
      "source": [
        "\"Write a program to compare the value a,b,c and confirm which value is greater one\"\n",
        "\n",
        "a = int(input(\"Enter a a value:\"))\n",
        "b = int(input(\"Enter a b value:\"))\n",
        "c = int(input(\"Enter a c value:\"))\n",
        "\n",
        "if a>b and a>c:\n",
        "  print(\"a is greater one\")\n",
        "elif b>c and b>a:\n",
        "  print(\"b is greater one\")\n",
        "elif c>a and c>b:\n",
        "  print(\"c is greater one\")\n",
        "else:\n",
        "  print(\"All are equal\")"
      ],
      "metadata": {
        "colab": {
          "base_uri": "https://localhost:8080/"
        },
        "id": "g3IGhFBMAziP",
        "outputId": "9ae80549-cec9-470e-bdf9-df677870b05d"
      },
      "execution_count": null,
      "outputs": [
        {
          "output_type": "stream",
          "name": "stdout",
          "text": [
            "Enter a a value:5\n",
            "Enter a b value:5\n",
            "Enter a c value:5\n",
            "All are equal\n"
          ]
        }
      ]
    },
    {
      "cell_type": "code",
      "source": [
        "n , n1 = False , True\n",
        "v = int(n)\n",
        "v1 = int(n1)\n",
        "print(v,v1)\n",
        "\n",
        "n = bool(v)\n",
        "n1 = bool(v1)\n",
        "\n",
        "print(n,n1)"
      ],
      "metadata": {
        "colab": {
          "base_uri": "https://localhost:8080/"
        },
        "id": "LmJn7xWMDPx6",
        "outputId": "256e27cf-262f-4c0d-b3b5-4b0867d11836"
      },
      "execution_count": null,
      "outputs": [
        {
          "output_type": "stream",
          "name": "stdout",
          "text": [
            "0 1\n",
            "False True\n"
          ]
        }
      ]
    },
    {
      "cell_type": "code",
      "source": [
        "name = \"Ram Kumar\"\n",
        "\n",
        "marks = 98.587\n",
        "\n",
        "print(\"The cantidate name {} and marks are {}\".format(name,marks))"
      ],
      "metadata": {
        "colab": {
          "base_uri": "https://localhost:8080/"
        },
        "id": "aWtHTtISNE__",
        "outputId": "8306ba69-b461-491b-db0d-ed8c5fd1d5d1"
      },
      "execution_count": null,
      "outputs": [
        {
          "output_type": "stream",
          "name": "stdout",
          "text": [
            "The cantidate name Ram Kumar and marks are 98.587\n"
          ]
        }
      ]
    },
    {
      "cell_type": "code",
      "source": [
        "'''Write a program and take the order 3\n",
        "pizzas and print the total cost of the pizza.'''\n",
        "\n",
        "print('''Press:\n",
        "\n",
        "1. Onions\n",
        "\n",
        "2.Lettuce\n",
        "\n",
        "3.Tomatoes\n",
        "\n",
        "4.Olives\n",
        "\n",
        "5.Peppers\n",
        "\n",
        "6.Carrot''')\n",
        "\n",
        "\n",
        "\n",
        "for i in range(1,4):\n",
        "\n",
        "    print(\"Enter Topping %d\"%(i))\n",
        "\n",
        "    input()\n",
        "\n",
        "\n",
        "\n",
        "n_san = int(input(\"Enter number of Sandwiches = \"))\n",
        "\n",
        "t_amount = n_san * 5;\n",
        "\n",
        "print(\"Total amount = $%d\"%t_amount)"
      ],
      "metadata": {
        "colab": {
          "base_uri": "https://localhost:8080/"
        },
        "id": "gevLI-zWTy3U",
        "outputId": "e5e08eaa-6512-40f4-ebf4-b9532e7497a1"
      },
      "execution_count": 1,
      "outputs": [
        {
          "output_type": "stream",
          "name": "stdout",
          "text": [
            "Press:\n",
            "\n",
            "1. Onions\n",
            "\n",
            "2.Lettuce\n",
            "\n",
            "3.Tomatoes\n",
            "\n",
            "4.Olives\n",
            "\n",
            "5.Peppers\n",
            "\n",
            "6.Carrot\n",
            "Enter Topping 1\n",
            "5\n",
            "Enter Topping 2\n",
            "6\n",
            "Enter Topping 3\n",
            "1\n",
            "Enter number of Sandwiches = 3\n",
            "Total amount = $15\n"
          ]
        }
      ]
    },
    {
      "cell_type": "code",
      "source": [
        "\"Write a program to print the average of 3 numbers\"\n",
        "a,b,c = [int(x) for x in input(\"Enter a 3 values:\").split()]\n",
        "\n",
        "avg  = (a+b+c) / 3\n",
        "\n",
        "print(\"The average value:\",avg)\n"
      ],
      "metadata": {
        "colab": {
          "base_uri": "https://localhost:8080/"
        },
        "id": "8szdRM-nqg3U",
        "outputId": "3c1fea66-82ab-4e46-daa1-1f36c296a790"
      },
      "execution_count": 2,
      "outputs": [
        {
          "output_type": "stream",
          "name": "stdout",
          "text": [
            "Enter a 3 values:5 10 15\n",
            "The average value: 10.0\n",
            "Enter a 3 values:6 12 18\n",
            "The average value: 12.0\n"
          ]
        }
      ]
    }
  ],
  "metadata": {
    "colab": {
      "provenance": [],
      "include_colab_link": true
    },
    "kernelspec": {
      "display_name": "Python 3",
      "name": "python3"
    }
  },
  "nbformat": 4,
  "nbformat_minor": 0
}